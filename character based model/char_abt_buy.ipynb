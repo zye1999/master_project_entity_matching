{
 "cells": [
  {
   "cell_type": "markdown",
   "id": "ea0c0a4e-bf5b-4346-b4cc-beaba231cdb3",
   "metadata": {},
   "source": [
    "# character based model applied in abt_buy dataset"
   ]
  },
  {
   "cell_type": "code",
   "execution_count": 1,
   "id": "243639f4-1f63-465c-9021-8b418395cfe5",
   "metadata": {},
   "outputs": [],
   "source": [
    "import pandas as pd\n",
    "import numpy as np"
   ]
  },
  {
   "cell_type": "code",
   "execution_count": 2,
   "id": "71aae2af-67ab-4648-b69a-ea2dee6bd119",
   "metadata": {},
   "outputs": [
    {
     "data": {
      "text/html": [
       "<div>\n",
       "<style scoped>\n",
       "    .dataframe tbody tr th:only-of-type {\n",
       "        vertical-align: middle;\n",
       "    }\n",
       "\n",
       "    .dataframe tbody tr th {\n",
       "        vertical-align: top;\n",
       "    }\n",
       "\n",
       "    .dataframe thead th {\n",
       "        text-align: right;\n",
       "    }\n",
       "</style>\n",
       "<table border=\"1\" class=\"dataframe\">\n",
       "  <thead>\n",
       "    <tr style=\"text-align: right;\">\n",
       "      <th></th>\n",
       "      <th>idx</th>\n",
       "      <th>text_left</th>\n",
       "      <th>text_right</th>\n",
       "      <th>label</th>\n",
       "    </tr>\n",
       "  </thead>\n",
       "  <tbody>\n",
       "    <tr>\n",
       "      <th>0</th>\n",
       "      <td>0</td>\n",
       "      <td>lg 24 ' lds4821ww semi integrated built in whi...</td>\n",
       "      <td>lg ldf6920bb fully integrated dishwasher</td>\n",
       "      <td>0</td>\n",
       "    </tr>\n",
       "    <tr>\n",
       "      <th>1</th>\n",
       "      <td>1</td>\n",
       "      <td>speck seethru clear hard shell case for macboo...</td>\n",
       "      <td>speck products seethru case for apple 13 ' mac...</td>\n",
       "      <td>0</td>\n",
       "    </tr>\n",
       "    <tr>\n",
       "      <th>2</th>\n",
       "      <td>2</td>\n",
       "      <td>denon blu-ray disc dvd/cd player dvd3800bdci 1...</td>\n",
       "      <td>denon dvd-2930ci dvd player dvd2930ci dvd + rw...</td>\n",
       "      <td>0</td>\n",
       "    </tr>\n",
       "    <tr>\n",
       "      <th>3</th>\n",
       "      <td>3</td>\n",
       "      <td>panasonic dect 6.0 expandable digital cordless...</td>\n",
       "      <td>panasonic kx-tg1032s dual handset digital cord...</td>\n",
       "      <td>0</td>\n",
       "    </tr>\n",
       "    <tr>\n",
       "      <th>4</th>\n",
       "      <td>4</td>\n",
       "      <td>sony silver minidv handycam camcorder dcrhc52 ...</td>\n",
       "      <td>sony minidv head cleaner dvm12cld head cleaner</td>\n",
       "      <td>0</td>\n",
       "    </tr>\n",
       "    <tr>\n",
       "      <th>...</th>\n",
       "      <td>...</td>\n",
       "      <td>...</td>\n",
       "      <td>...</td>\n",
       "      <td>...</td>\n",
       "    </tr>\n",
       "    <tr>\n",
       "      <th>5738</th>\n",
       "      <td>5738</td>\n",
       "      <td>sony silver cyber-shot digital camera dscw170 ...</td>\n",
       "      <td>sony cyber-shot dsc-w300 digital camera 13.6 m...</td>\n",
       "      <td>0</td>\n",
       "    </tr>\n",
       "    <tr>\n",
       "      <th>5739</th>\n",
       "      <td>5739</td>\n",
       "      <td>panasonic nnsd377s stainless steel countertop ...</td>\n",
       "      <td>panasonic nn-c994s genius prestige convection ...</td>\n",
       "      <td>0</td>\n",
       "    </tr>\n",
       "    <tr>\n",
       "      <th>5740</th>\n",
       "      <td>5740</td>\n",
       "      <td>omnimount 42 ' 63 ' wishbone cantilever extra ...</td>\n",
       "      <td>sanus visionmount flat panel tv wall mount mf1...</td>\n",
       "      <td>0</td>\n",
       "    </tr>\n",
       "    <tr>\n",
       "      <th>5741</th>\n",
       "      <td>5741</td>\n",
       "      <td>samsung black dvd/vhs combo recorder dvdvr375 ...</td>\n",
       "      <td>samsung dvd-v9800 dvd/vcr combo player w / 108...</td>\n",
       "      <td>0</td>\n",
       "    </tr>\n",
       "    <tr>\n",
       "      <th>5742</th>\n",
       "      <td>5742</td>\n",
       "      <td>logitech mx air rechargeable cordless air mous...</td>\n",
       "      <td>logitech cordless desktop mx 5000 laser 967562...</td>\n",
       "      <td>0</td>\n",
       "    </tr>\n",
       "  </tbody>\n",
       "</table>\n",
       "<p>5743 rows × 4 columns</p>\n",
       "</div>"
      ],
      "text/plain": [
       "       idx                                          text_left  \\\n",
       "0        0  lg 24 ' lds4821ww semi integrated built in whi...   \n",
       "1        1  speck seethru clear hard shell case for macboo...   \n",
       "2        2  denon blu-ray disc dvd/cd player dvd3800bdci 1...   \n",
       "3        3  panasonic dect 6.0 expandable digital cordless...   \n",
       "4        4  sony silver minidv handycam camcorder dcrhc52 ...   \n",
       "...    ...                                                ...   \n",
       "5738  5738  sony silver cyber-shot digital camera dscw170 ...   \n",
       "5739  5739  panasonic nnsd377s stainless steel countertop ...   \n",
       "5740  5740  omnimount 42 ' 63 ' wishbone cantilever extra ...   \n",
       "5741  5741  samsung black dvd/vhs combo recorder dvdvr375 ...   \n",
       "5742  5742  logitech mx air rechargeable cordless air mous...   \n",
       "\n",
       "                                             text_right  label  \n",
       "0              lg ldf6920bb fully integrated dishwasher      0  \n",
       "1     speck products seethru case for apple 13 ' mac...      0  \n",
       "2     denon dvd-2930ci dvd player dvd2930ci dvd + rw...      0  \n",
       "3     panasonic kx-tg1032s dual handset digital cord...      0  \n",
       "4        sony minidv head cleaner dvm12cld head cleaner      0  \n",
       "...                                                 ...    ...  \n",
       "5738  sony cyber-shot dsc-w300 digital camera 13.6 m...      0  \n",
       "5739  panasonic nn-c994s genius prestige convection ...      0  \n",
       "5740  sanus visionmount flat panel tv wall mount mf1...      0  \n",
       "5741  samsung dvd-v9800 dvd/vcr combo player w / 108...      0  \n",
       "5742  logitech cordless desktop mx 5000 laser 967562...      0  \n",
       "\n",
       "[5743 rows x 4 columns]"
      ]
     },
     "execution_count": 2,
     "metadata": {},
     "output_type": "execute_result"
    }
   ],
   "source": [
    "abt_train = pd.read_csv(\"buy_train.tsv\", sep=\"\\t\")\n",
    "abt_train"
   ]
  },
  {
   "cell_type": "code",
   "execution_count": 3,
   "id": "027fd9e3-f8a8-4f66-91d9-3d69c0717767",
   "metadata": {},
   "outputs": [],
   "source": [
    "train_left=abt_train['text_left']\n",
    "train_right=abt_train['text_right']"
   ]
  },
  {
   "cell_type": "code",
   "execution_count": 4,
   "id": "51b3f2e9-dc85-479e-b180-e6c35bdacf67",
   "metadata": {},
   "outputs": [],
   "source": [
    "length=len(train_left)"
   ]
  },
  {
   "cell_type": "code",
   "execution_count": 5,
   "id": "d3e7fd1f-1112-4b8c-8545-e1519c9ebebc",
   "metadata": {},
   "outputs": [],
   "source": [
    "# build a function to calculate Levenshtein minimal-editing distance\n",
    "def charDistance(s1,s2):\n",
    "    # get the length of the strings\n",
    "    m = len(s1)\n",
    "    n = len(s2)\n",
    "    # if some of them are empty, return the longer length of them\n",
    "    if (m==0|n==0):\n",
    "        return max(m,n)\n",
    "    # create an empty matrix to store the calculation result\n",
    "    A = np.zeros((m+1,n+1))\n",
    "    # initialize the first row and column\n",
    "    for i in range(0,m+1):\n",
    "        A[i][0]=i\n",
    "    for j in range(1,n+1):\n",
    "        A[0][j]=j\n",
    "    # calculate the distance column by column\n",
    "    for j in range(1,n+1):\n",
    "        for i in range(1,m+1):\n",
    "            if (s1[i-1]==s2[j-1]):\n",
    "                d=0\n",
    "            else: d=1\n",
    "            A[i][j]=min(A[i-1][j]+1,A[i][j-1]+1,A[i-1][j-1]+d)\n",
    "    # return the final result\n",
    "    return A[m][n]"
   ]
  },
  {
   "cell_type": "code",
   "execution_count": 6,
   "id": "1b9e21f3-4afa-4fb2-b8db-5e11c540cafa",
   "metadata": {},
   "outputs": [],
   "source": [
    "dist_train=[]\n",
    "for i in range(length):\n",
    "    d=charDistance(train_left[i],train_right[i])\n",
    "    dist_train.append(d)\n",
    "# dist_train"
   ]
  },
  {
   "cell_type": "code",
   "execution_count": 7,
   "id": "85e64301-f804-4c2c-9073-c42684a7658e",
   "metadata": {},
   "outputs": [],
   "source": [
    "real_train=abt_train['label']"
   ]
  },
  {
   "cell_type": "code",
   "execution_count": 8,
   "id": "88597a6e-f912-41d3-9234-dbe9e44e49a1",
   "metadata": {},
   "outputs": [],
   "source": [
    "is_same=[]\n",
    "is_diff=[]\n",
    "for i in range(length):\n",
    "    if real_train[i]==1:\n",
    "        is_same.append(dist_train[i])\n",
    "    else:\n",
    "        is_diff.append(dist_train[i])"
   ]
  },
  {
   "cell_type": "code",
   "execution_count": 9,
   "id": "40d7637e-adde-4778-bd3d-b1870e040673",
   "metadata": {},
   "outputs": [
    {
     "name": "stdout",
     "output_type": "stream",
     "text": [
      "179.9707792207792\n",
      "202.20967427345425\n"
     ]
    }
   ],
   "source": [
    "print(np.mean(is_same))\n",
    "print(np.mean(is_diff))"
   ]
  },
  {
   "cell_type": "code",
   "execution_count": 10,
   "id": "f3e6160d-1f12-4bcb-a861-63d3fb58934e",
   "metadata": {},
   "outputs": [
    {
     "name": "stdout",
     "output_type": "stream",
     "text": [
      "423.0\n",
      "460.0\n"
     ]
    }
   ],
   "source": [
    "print(max(is_same))\n",
    "print(max(is_diff))"
   ]
  },
  {
   "cell_type": "code",
   "execution_count": 11,
   "id": "d669977d-4857-4bfb-bf55-02a79b287b42",
   "metadata": {},
   "outputs": [],
   "source": [
    "set_same=set(is_same)\n",
    "set_diff=set(is_diff)"
   ]
  },
  {
   "cell_type": "code",
   "execution_count": 12,
   "id": "4bedb656-013b-44c5-b736-306ca53498a3",
   "metadata": {},
   "outputs": [],
   "source": [
    "def countnum(A,a):\n",
    "    count=0\n",
    "    for i in range(len(A)):\n",
    "        if(A[i]==a):\n",
    "            count=count+1\n",
    "    return count"
   ]
  },
  {
   "cell_type": "code",
   "execution_count": 13,
   "id": "cfb28bad-c557-493d-b645-9879248d208d",
   "metadata": {
    "tags": []
   },
   "outputs": [],
   "source": [
    "y_same=[]\n",
    "for i in set_same:\n",
    "    y_same.append(countnum(is_same,i))"
   ]
  },
  {
   "cell_type": "code",
   "execution_count": 14,
   "id": "eebf1c2c-6809-4358-af20-24119075de26",
   "metadata": {},
   "outputs": [],
   "source": [
    "y_diff=[]\n",
    "for i in set_diff:\n",
    "    y_diff.append(countnum(is_diff,i))"
   ]
  },
  {
   "cell_type": "code",
   "execution_count": 15,
   "id": "0202859a-19e3-4097-93af-c66bbadb7ffe",
   "metadata": {},
   "outputs": [
    {
     "data": {
      "text/plain": [
       "[<matplotlib.lines.Line2D at 0x1e36ae29040>]"
      ]
     },
     "execution_count": 15,
     "metadata": {},
     "output_type": "execute_result"
    },
    {
     "data": {
      "image/png": "[encoded data removed]",
      "text/plain": [
       "<Figure size 432x288 with 1 Axes>"
      ]
     },
     "metadata": {
      "needs_background": "light"
     },
     "output_type": "display_data"
    }
   ],
   "source": [
    "import matplotlib.pyplot as plt\n",
    "plt.plot(list(set_same),y_same)"
   ]
  },
  {
   "cell_type": "code",
   "execution_count": 16,
   "id": "b61bb6fa-2ab8-46ae-800a-523dec85bc6a",
   "metadata": {},
   "outputs": [
    {
     "data": {
      "text/plain": [
       "[<matplotlib.lines.Line2D at 0x1e36b5c3940>]"
      ]
     },
     "execution_count": 16,
     "metadata": {},
     "output_type": "execute_result"
    },
    {
     "data": {
      "image/png": "[encoded data removed]",
      "text/plain": [
       "<Figure size 432x288 with 1 Axes>"
      ]
     },
     "metadata": {
      "needs_background": "light"
     },
     "output_type": "display_data"
    }
   ],
   "source": [
    "plt.plot(list(set_diff),y_diff)"
   ]
  },
  {
   "cell_type": "code",
   "execution_count": 17,
   "id": "be821a2e-2c2a-48d6-bc22-50b673c3551b",
   "metadata": {},
   "outputs": [
    {
     "data": {
      "text/plain": [
       "<matplotlib.legend.Legend at 0x1e36b628f10>"
      ]
     },
     "execution_count": 17,
     "metadata": {},
     "output_type": "execute_result"
    },
    {
     "data": {
      "image/png": "[encoded data removed]",
      "text/plain": [
       "<Figure size 432x288 with 1 Axes>"
      ]
     },
     "metadata": {
      "needs_background": "light"
     },
     "output_type": "display_data"
    }
   ],
   "source": [
    "plt.plot(list(set_same),y_same,color='r',label='same')\n",
    "plt.plot(list(set_diff),y_diff,color='b',label='different')\n",
    "plt.legend()"
   ]
  },
  {
   "cell_type": "code",
   "execution_count": 18,
   "id": "02901d93-5bd7-4bf7-8291-05171512b7bf",
   "metadata": {},
   "outputs": [],
   "source": [
    "threshold=range(50,200,2)"
   ]
  },
  {
   "cell_type": "code",
   "execution_count": 19,
   "id": "61f17f7e-69db-41fc-ab01-8fc8df24a111",
   "metadata": {},
   "outputs": [
    {
     "data": {
      "text/html": [
       "<div>\n",
       "<style scoped>\n",
       "    .dataframe tbody tr th:only-of-type {\n",
       "        vertical-align: middle;\n",
       "    }\n",
       "\n",
       "    .dataframe tbody tr th {\n",
       "        vertical-align: top;\n",
       "    }\n",
       "\n",
       "    .dataframe thead th {\n",
       "        text-align: right;\n",
       "    }\n",
       "</style>\n",
       "<table border=\"1\" class=\"dataframe\">\n",
       "  <thead>\n",
       "    <tr style=\"text-align: right;\">\n",
       "      <th></th>\n",
       "      <th>idx</th>\n",
       "      <th>text_left</th>\n",
       "      <th>text_right</th>\n",
       "      <th>label</th>\n",
       "    </tr>\n",
       "  </thead>\n",
       "  <tbody>\n",
       "    <tr>\n",
       "      <th>0</th>\n",
       "      <td>0</td>\n",
       "      <td>sony pink cyber-shot 7.2 megapixel digital cam...</td>\n",
       "      <td>olympus fe-360 digital camera pink 226540 8 me...</td>\n",
       "      <td>0</td>\n",
       "    </tr>\n",
       "    <tr>\n",
       "      <th>1</th>\n",
       "      <td>1</td>\n",
       "      <td>lg 2.0 cu . ft. over-the-range white microwave...</td>\n",
       "      <td>maytag 2.0 cu . ft. over-the-range microwave oven</td>\n",
       "      <td>0</td>\n",
       "    </tr>\n",
       "    <tr>\n",
       "      <th>2</th>\n",
       "      <td>2</td>\n",
       "      <td>panasonic black 8.5 ' portable dvd player dvdl...</td>\n",
       "      <td>toshiba sd-p71s portable dvd player toshiba sd...</td>\n",
       "      <td>0</td>\n",
       "    </tr>\n",
       "    <tr>\n",
       "      <th>3</th>\n",
       "      <td>3</td>\n",
       "      <td>sony bravia theater black micro system davis50...</td>\n",
       "      <td>sony bravia dav-is50 / b home theater system d...</td>\n",
       "      <td>1</td>\n",
       "    </tr>\n",
       "    <tr>\n",
       "      <th>4</th>\n",
       "      <td>4</td>\n",
       "      <td>panasonic dect 6.0 expandable digital cordless...</td>\n",
       "      <td>panasonic kx-tg9342t cordless phone 1 x phone ...</td>\n",
       "      <td>0</td>\n",
       "    </tr>\n",
       "    <tr>\n",
       "      <th>...</th>\n",
       "      <td>...</td>\n",
       "      <td>...</td>\n",
       "      <td>...</td>\n",
       "      <td>...</td>\n",
       "    </tr>\n",
       "    <tr>\n",
       "      <th>1911</th>\n",
       "      <td>1911</td>\n",
       "      <td>nikon coolpix s210 plum 8.1 megapixels compact...</td>\n",
       "      <td>nikon coolpix s610 digital camera midnight bla...</td>\n",
       "      <td>0</td>\n",
       "    </tr>\n",
       "    <tr>\n",
       "      <th>1912</th>\n",
       "      <td>1912</td>\n",
       "      <td>lg 2.0 cu . ft. over-the-range black microwave...</td>\n",
       "      <td>lg 2.0 cu.ft . over the range microwave oven</td>\n",
       "      <td>1</td>\n",
       "    </tr>\n",
       "    <tr>\n",
       "      <th>1913</th>\n",
       "      <td>1913</td>\n",
       "      <td>lg dlex7177rm cherry red xl capacity electric ...</td>\n",
       "      <td>lgs new electric steamdryer</td>\n",
       "      <td>0</td>\n",
       "    </tr>\n",
       "    <tr>\n",
       "      <th>1914</th>\n",
       "      <td>1914</td>\n",
       "      <td>sanus 15 ' to 40 ' flat panel black tv wall mo...</td>\n",
       "      <td>omnimount ultra low profile ulpt-l flat panel ...</td>\n",
       "      <td>0</td>\n",
       "    </tr>\n",
       "    <tr>\n",
       "      <th>1915</th>\n",
       "      <td>1915</td>\n",
       "      <td>toshiba black portable dvd player sdp71s 7 ' w...</td>\n",
       "      <td>toshiba sd-p91s portable dvd player toshiba sd...</td>\n",
       "      <td>0</td>\n",
       "    </tr>\n",
       "  </tbody>\n",
       "</table>\n",
       "<p>1916 rows × 4 columns</p>\n",
       "</div>"
      ],
      "text/plain": [
       "       idx                                          text_left  \\\n",
       "0        0  sony pink cyber-shot 7.2 megapixel digital cam...   \n",
       "1        1  lg 2.0 cu . ft. over-the-range white microwave...   \n",
       "2        2  panasonic black 8.5 ' portable dvd player dvdl...   \n",
       "3        3  sony bravia theater black micro system davis50...   \n",
       "4        4  panasonic dect 6.0 expandable digital cordless...   \n",
       "...    ...                                                ...   \n",
       "1911  1911  nikon coolpix s210 plum 8.1 megapixels compact...   \n",
       "1912  1912  lg 2.0 cu . ft. over-the-range black microwave...   \n",
       "1913  1913  lg dlex7177rm cherry red xl capacity electric ...   \n",
       "1914  1914  sanus 15 ' to 40 ' flat panel black tv wall mo...   \n",
       "1915  1915  toshiba black portable dvd player sdp71s 7 ' w...   \n",
       "\n",
       "                                             text_right  label  \n",
       "0     olympus fe-360 digital camera pink 226540 8 me...      0  \n",
       "1     maytag 2.0 cu . ft. over-the-range microwave oven      0  \n",
       "2     toshiba sd-p71s portable dvd player toshiba sd...      0  \n",
       "3     sony bravia dav-is50 / b home theater system d...      1  \n",
       "4     panasonic kx-tg9342t cordless phone 1 x phone ...      0  \n",
       "...                                                 ...    ...  \n",
       "1911  nikon coolpix s610 digital camera midnight bla...      0  \n",
       "1912       lg 2.0 cu.ft . over the range microwave oven      1  \n",
       "1913                        lgs new electric steamdryer      0  \n",
       "1914  omnimount ultra low profile ulpt-l flat panel ...      0  \n",
       "1915  toshiba sd-p91s portable dvd player toshiba sd...      0  \n",
       "\n",
       "[1916 rows x 4 columns]"
      ]
     },
     "execution_count": 19,
     "metadata": {},
     "output_type": "execute_result"
    }
   ],
   "source": [
    "abt_test = pd.read_csv(\"buy_test.tsv\", sep=\"\\t\")\n",
    "abt_test"
   ]
  },
  {
   "cell_type": "code",
   "execution_count": 20,
   "id": "44940b79-de06-4e96-8fb3-d5e16550c989",
   "metadata": {},
   "outputs": [],
   "source": [
    "test_left=abt_test['text_left']\n",
    "test_right=abt_test['text_right']"
   ]
  },
  {
   "cell_type": "code",
   "execution_count": 21,
   "id": "97f6a02b-5c00-4f94-a8d1-ce8248672fd4",
   "metadata": {},
   "outputs": [],
   "source": [
    "length_test=len(test_left)"
   ]
  },
  {
   "cell_type": "code",
   "execution_count": 22,
   "id": "2fbce4b1-8714-48a3-ab0f-6c5aa561f4ee",
   "metadata": {},
   "outputs": [],
   "source": [
    "dist_test=[]\n",
    "for i in range(length_test):\n",
    "    d=charDistance(test_left[i],test_right[i])\n",
    "    dist_test.append(d)"
   ]
  },
  {
   "cell_type": "code",
   "execution_count": 23,
   "id": "9de3a9a1-852d-4369-a07b-3a439c4bd1cf",
   "metadata": {},
   "outputs": [],
   "source": [
    "test_label=aby_test['label']"
   ]
  },
  {
   "cell_type": "code",
   "execution_count": 24,
   "id": "9618c01e-d7a5-450f-8f55-28b72757fa11",
   "metadata": {},
   "outputs": [],
   "source": [
    "accuracy=[]\n",
    "for i in range(len(threshold)):\n",
    "    predict=[]\n",
    "    for j in range(len(dist_test)):\n",
    "        if dist_test[j]<=threshold[i]:\n",
    "            predict.append(1)\n",
    "        else:\n",
    "            predict.append(0)\n",
    "    count=0\n",
    "    for k in range(len(dist_test)):\n",
    "        if predict[k]==test_label[k]:\n",
    "            count=count+1\n",
    "    a=count/len(test_label)\n",
    "    accuracy.append(a)  "
   ]
  },
  {
   "cell_type": "code",
   "execution_count": 25,
   "id": "58e057b9-06ba-488d-99cb-08d847f6288d",
   "metadata": {
    "tags": []
   },
   "outputs": [
    {
     "data": {
      "text/plain": [
       "[0.8919624217118998,\n",
       " 0.8914405010438413,\n",
       " 0.8909185803757829,\n",
       " 0.8893528183716075,\n",
       " 0.8877870563674322,\n",
       " 0.8836116910229646,\n",
       " 0.8825678496868476,\n",
       " 0.8825678496868476,\n",
       " 0.8810020876826722,\n",
       " 0.8789144050104384,\n",
       " 0.877348643006263,\n",
       " 0.877348643006263,\n",
       " 0.8763048016701461,\n",
       " 0.8747390396659708,\n",
       " 0.8705636743215032,\n",
       " 0.8679540709812108,\n",
       " 0.8669102296450939,\n",
       " 0.8648225469728601,\n",
       " 0.8590814196242171,\n",
       " 0.8569937369519833,\n",
       " 0.8549060542797495,\n",
       " 0.8502087682672234,\n",
       " 0.8481210855949896,\n",
       " 0.8444676409185804,\n",
       " 0.8397703549060542,\n",
       " 0.8355949895615866,\n",
       " 0.8345511482254697,\n",
       " 0.8324634655532359,\n",
       " 0.8293319415448852,\n",
       " 0.826722338204593,\n",
       " 0.8235908141962421,\n",
       " 0.8215031315240083,\n",
       " 0.8152400835073069,\n",
       " 0.8157620041753654,\n",
       " 0.8105427974947808,\n",
       " 0.8032359081419624,\n",
       " 0.8001043841336117,\n",
       " 0.7974947807933194,\n",
       " 0.7922755741127349,\n",
       " 0.7896659707724426,\n",
       " 0.7828810020876826,\n",
       " 0.7750521920668059,\n",
       " 0.7640918580375783,\n",
       " 0.7578288100208769,\n",
       " 0.7489561586638831,\n",
       " 0.7437369519832986,\n",
       " 0.7390396659707724,\n",
       " 0.7239039665970772,\n",
       " 0.714509394572025,\n",
       " 0.7077244258872651,\n",
       " 0.7014613778705637,\n",
       " 0.6931106471816284,\n",
       " 0.68580375782881,\n",
       " 0.6805845511482255,\n",
       " 0.6722338204592901,\n",
       " 0.6591858037578288,\n",
       " 0.6544885177453027,\n",
       " 0.6466597077244259,\n",
       " 0.6403966597077244,\n",
       " 0.6299582463465553,\n",
       " 0.6195198329853863,\n",
       " 0.6116910229645094,\n",
       " 0.6064718162839249,\n",
       " 0.5975991649269311,\n",
       " 0.592901878914405,\n",
       " 0.5855949895615866,\n",
       " 0.5751565762004175,\n",
       " 0.56419624217119,\n",
       " 0.5521920668058455,\n",
       " 0.5396659707724426,\n",
       " 0.5334029227557411,\n",
       " 0.5219206680584552,\n",
       " 0.5140918580375783,\n",
       " 0.5031315240083507,\n",
       " 0.4921711899791232]"
      ]
     },
     "execution_count": 25,
     "metadata": {},
     "output_type": "execute_result"
    }
   ],
   "source": [
    "accuracy"
   ]
  },
  {
   "cell_type": "code",
   "execution_count": 26,
   "id": "aa1cb973-6a9f-48bd-a5c5-a3e243d613d4",
   "metadata": {},
   "outputs": [
    {
     "data": {
      "text/plain": [
       "0.8919624217118998"
      ]
     },
     "execution_count": 26,
     "metadata": {},
     "output_type": "execute_result"
    }
   ],
   "source": [
    "max(accuracy)"
   ]
  }
 ],
 "metadata": {
  "kernelspec": {
   "display_name": "Python 3 (ipykernel)",
   "language": "python",
   "name": "python3"
  },
  "language_info": {
   "codemirror_mode": {
    "name": "ipython",
    "version": 3
   },
   "file_extension": ".py",
   "mimetype": "text/x-python",
   "name": "python",
   "nbconvert_exporter": "python",
   "pygments_lexer": "ipython3",
   "version": "3.9.7"
  }
 },
 "nbformat": 4,
 "nbformat_minor": 5
}
