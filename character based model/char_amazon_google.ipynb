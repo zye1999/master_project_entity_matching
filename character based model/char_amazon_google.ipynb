{
 "cells": [
  {
   "cell_type": "markdown",
   "id": "d0da6688-f081-410f-b973-c64dc092cdb2",
   "metadata": {},
   "source": [
    "# character based model applied in amazon_google dataset"
   ]
  },
  {
   "cell_type": "code",
   "execution_count": 2,
   "id": "e1fcbeca-dfe9-4c1d-b564-a50c0d479737",
   "metadata": {},
   "outputs": [],
   "source": [
    "import pandas as pd\n",
    "import numpy as np"
   ]
  },
  {
   "cell_type": "code",
   "execution_count": 3,
   "id": "656068c7-5773-4bbe-88e7-d300fffe549c",
   "metadata": {},
   "outputs": [
    {
     "data": {
      "text/html": [
       "<div>\n",
       "<style scoped>\n",
       "    .dataframe tbody tr th:only-of-type {\n",
       "        vertical-align: middle;\n",
       "    }\n",
       "\n",
       "    .dataframe tbody tr th {\n",
       "        vertical-align: top;\n",
       "    }\n",
       "\n",
       "    .dataframe thead th {\n",
       "        text-align: right;\n",
       "    }\n",
       "</style>\n",
       "<table border=\"1\" class=\"dataframe\">\n",
       "  <thead>\n",
       "    <tr style=\"text-align: right;\">\n",
       "      <th></th>\n",
       "      <th>idx</th>\n",
       "      <th>text_left</th>\n",
       "      <th>text_right</th>\n",
       "      <th>label</th>\n",
       "    </tr>\n",
       "  </thead>\n",
       "  <tbody>\n",
       "    <tr>\n",
       "      <th>0</th>\n",
       "      <td>0</td>\n",
       "      <td>microsoft visio standard 2007 version upgrade ...</td>\n",
       "      <td>adobe cs3 design standard upgrade 413.99</td>\n",
       "      <td>0</td>\n",
       "    </tr>\n",
       "    <tr>\n",
       "      <th>1</th>\n",
       "      <td>1</td>\n",
       "      <td>microsoft mappoint 2006 with gps microsoft 349.0</td>\n",
       "      <td>microsoft student with encarta premium 2008 co...</td>\n",
       "      <td>0</td>\n",
       "    </tr>\n",
       "    <tr>\n",
       "      <th>2</th>\n",
       "      <td>2</td>\n",
       "      <td>adobe after effects professional 7.0 adobe 999.0</td>\n",
       "      <td>adobe flash cs3 professional ( mac ) 699.0</td>\n",
       "      <td>0</td>\n",
       "    </tr>\n",
       "    <tr>\n",
       "      <th>3</th>\n",
       "      <td>3</td>\n",
       "      <td>motu digital performer 5 digital audio softwar...</td>\n",
       "      <td>motu digital performer dp5 software music prod...</td>\n",
       "      <td>1</td>\n",
       "    </tr>\n",
       "    <tr>\n",
       "      <th>4</th>\n",
       "      <td>4</td>\n",
       "      <td>illustrator cs3 13 mac ed 1u adobe-education-b...</td>\n",
       "      <td>adobe illustrator cs3 for mac academic adobe-e...</td>\n",
       "      <td>1</td>\n",
       "    </tr>\n",
       "    <tr>\n",
       "      <th>...</th>\n",
       "      <td>...</td>\n",
       "      <td>...</td>\n",
       "      <td>...</td>\n",
       "      <td>...</td>\n",
       "    </tr>\n",
       "    <tr>\n",
       "      <th>6869</th>\n",
       "      <td>6869</td>\n",
       "      <td>microsoft visual studio team suite 2005 with m...</td>\n",
       "      <td>f1q-00302 microsoft visual studio 2005 profess...</td>\n",
       "      <td>0</td>\n",
       "    </tr>\n",
       "    <tr>\n",
       "      <th>6870</th>\n",
       "      <td>6870</td>\n",
       "      <td>microsoft word 2004 upgrade ( mac ) microsoft ...</td>\n",
       "      <td>microsoft b21-00806 ae mappoint 2006 cd 50.39</td>\n",
       "      <td>0</td>\n",
       "    </tr>\n",
       "    <tr>\n",
       "      <th>6871</th>\n",
       "      <td>6871</td>\n",
       "      <td>adobe after effects professional 7.0 adobe 999.0</td>\n",
       "      <td>15510669dm adobe after effects cs3 professiona...</td>\n",
       "      <td>0</td>\n",
       "    </tr>\n",
       "    <tr>\n",
       "      <th>6872</th>\n",
       "      <td>6872</td>\n",
       "      <td>system care professional avanquest 49.95</td>\n",
       "      <td>microsoft office and windows training professi...</td>\n",
       "      <td>0</td>\n",
       "    </tr>\n",
       "    <tr>\n",
       "      <th>6873</th>\n",
       "      <td>6873</td>\n",
       "      <td>punch ! super home suite punch ! software 49.99</td>\n",
       "      <td>punch software 14100 punch ! professional home...</td>\n",
       "      <td>0</td>\n",
       "    </tr>\n",
       "  </tbody>\n",
       "</table>\n",
       "<p>6874 rows × 4 columns</p>\n",
       "</div>"
      ],
      "text/plain": [
       "       idx                                          text_left  \\\n",
       "0        0  microsoft visio standard 2007 version upgrade ...   \n",
       "1        1   microsoft mappoint 2006 with gps microsoft 349.0   \n",
       "2        2   adobe after effects professional 7.0 adobe 999.0   \n",
       "3        3  motu digital performer 5 digital audio softwar...   \n",
       "4        4  illustrator cs3 13 mac ed 1u adobe-education-b...   \n",
       "...    ...                                                ...   \n",
       "6869  6869  microsoft visual studio team suite 2005 with m...   \n",
       "6870  6870  microsoft word 2004 upgrade ( mac ) microsoft ...   \n",
       "6871  6871   adobe after effects professional 7.0 adobe 999.0   \n",
       "6872  6872           system care professional avanquest 49.95   \n",
       "6873  6873    punch ! super home suite punch ! software 49.99   \n",
       "\n",
       "                                             text_right  label  \n",
       "0              adobe cs3 design standard upgrade 413.99      0  \n",
       "1     microsoft student with encarta premium 2008 co...      0  \n",
       "2            adobe flash cs3 professional ( mac ) 699.0      0  \n",
       "3     motu digital performer dp5 software music prod...      1  \n",
       "4     adobe illustrator cs3 for mac academic adobe-e...      1  \n",
       "...                                                 ...    ...  \n",
       "6869  f1q-00302 microsoft visual studio 2005 profess...      0  \n",
       "6870      microsoft b21-00806 ae mappoint 2006 cd 50.39      0  \n",
       "6871  15510669dm adobe after effects cs3 professiona...      0  \n",
       "6872  microsoft office and windows training professi...      0  \n",
       "6873  punch software 14100 punch ! professional home...      0  \n",
       "\n",
       "[6874 rows x 4 columns]"
      ]
     },
     "execution_count": 3,
     "metadata": {},
     "output_type": "execute_result"
    }
   ],
   "source": [
    "amazon_train = pd.read_csv(\"amazon_train.tsv\", sep=\"\\t\")\n",
    "amazon_train"
   ]
  },
  {
   "cell_type": "code",
   "execution_count": 5,
   "id": "5bf39526-2dfb-4017-831a-b4e1fa78adaf",
   "metadata": {},
   "outputs": [],
   "source": [
    "train_left=amazon_train['text_left']\n",
    "train_right=amazon_train['text_right']"
   ]
  },
  {
   "cell_type": "code",
   "execution_count": 6,
   "id": "bf076932-eeab-46ea-86e4-07f9a877e271",
   "metadata": {},
   "outputs": [],
   "source": [
    "length=len(train_left)"
   ]
  },
  {
   "cell_type": "code",
   "execution_count": 7,
   "id": "499cccb1-3993-4900-ba33-c0a84a2dd37f",
   "metadata": {},
   "outputs": [],
   "source": [
    "# build a function to calculate Levenshtein minimal-editing distance\n",
    "def charDistance(s1,s2):\n",
    "    # get the length of the strings\n",
    "    m = len(s1)\n",
    "    n = len(s2)\n",
    "    # if some of them are empty, return the longer length of them\n",
    "    if (m==0|n==0):\n",
    "        return max(m,n)\n",
    "    # create an empty matrix to store the calculation result\n",
    "    A = np.zeros((m+1,n+1))\n",
    "    # initialize the first row and column\n",
    "    for i in range(0,m+1):\n",
    "        A[i][0]=i\n",
    "    for j in range(1,n+1):\n",
    "        A[0][j]=j\n",
    "    # calculate the distance column by column\n",
    "    for j in range(1,n+1):\n",
    "        for i in range(1,m+1):\n",
    "            if (s1[i-1]==s2[j-1]):\n",
    "                d=0\n",
    "            else: d=1\n",
    "            A[i][j]=min(A[i-1][j]+1,A[i][j-1]+1,A[i-1][j-1]+d)\n",
    "    # return the final result\n",
    "    return A[m][n]"
   ]
  },
  {
   "cell_type": "code",
   "execution_count": 8,
   "id": "0ac31bba-de47-4b74-821b-9798ac5e9a14",
   "metadata": {},
   "outputs": [],
   "source": [
    "dist_train=[]\n",
    "for i in range(length):\n",
    "    d=charDistance(train_left[i],train_right[i])\n",
    "    dist_train.append(d)\n",
    "# dist_train"
   ]
  },
  {
   "cell_type": "code",
   "execution_count": 9,
   "id": "b754bdca-d87f-4b91-a555-72baf9e95590",
   "metadata": {},
   "outputs": [],
   "source": [
    "real_train=amazon_train['label']"
   ]
  },
  {
   "cell_type": "code",
   "execution_count": 10,
   "id": "da6e66bb-d4a4-4016-a73d-21d9884f42dd",
   "metadata": {},
   "outputs": [],
   "source": [
    "is_same=[]\n",
    "is_diff=[]\n",
    "for i in range(length):\n",
    "    if real_train[i]==1:\n",
    "        is_same.append(dist_train[i])\n",
    "    else:\n",
    "        is_diff.append(dist_train[i])"
   ]
  },
  {
   "cell_type": "code",
   "execution_count": 11,
   "id": "d8085945-f8d9-4dd4-87b1-fc4c1423b10d",
   "metadata": {},
   "outputs": [
    {
     "name": "stdout",
     "output_type": "stream",
     "text": [
      "34.62804005722461\n",
      "41.132955465587045\n"
     ]
    }
   ],
   "source": [
    "print(np.mean(is_same))\n",
    "print(np.mean(is_diff))"
   ]
  },
  {
   "cell_type": "code",
   "execution_count": 12,
   "id": "268a8e44-9744-40e9-bcb0-761d1b76bcc9",
   "metadata": {},
   "outputs": [
    {
     "name": "stdout",
     "output_type": "stream",
     "text": [
      "162.0\n",
      "144.0\n"
     ]
    }
   ],
   "source": [
    "print(max(is_same))\n",
    "print(max(is_diff))"
   ]
  },
  {
   "cell_type": "code",
   "execution_count": 13,
   "id": "40645cef-0286-45f6-ad04-1812f7b8e675",
   "metadata": {},
   "outputs": [],
   "source": [
    "set_same=set(is_same)\n",
    "set_diff=set(is_diff)"
   ]
  },
  {
   "cell_type": "code",
   "execution_count": 14,
   "id": "ff9cfefd-276c-420e-b5c3-f15b159643b4",
   "metadata": {},
   "outputs": [],
   "source": [
    "def countnum(A,a):\n",
    "    count=0\n",
    "    for i in range(len(A)):\n",
    "        if(A[i]==a):\n",
    "            count=count+1\n",
    "    return count"
   ]
  },
  {
   "cell_type": "code",
   "execution_count": 15,
   "id": "5818bdc8-2bb7-4b2e-8b2d-bc12b7d3e2cf",
   "metadata": {
    "tags": []
   },
   "outputs": [],
   "source": [
    "y_same=[]\n",
    "for i in set_same:\n",
    "    y_same.append(countnum(is_same,i))"
   ]
  },
  {
   "cell_type": "code",
   "execution_count": 16,
   "id": "13a01259-e613-4a42-be8d-badb2142feaf",
   "metadata": {},
   "outputs": [],
   "source": [
    "y_diff=[]\n",
    "for i in set_diff:\n",
    "    y_diff.append(countnum(is_diff,i))"
   ]
  },
  {
   "cell_type": "code",
   "execution_count": 17,
   "id": "bbeb2a61-0f42-4255-9b99-c23bf3c72e56",
   "metadata": {},
   "outputs": [
    {
     "data": {
      "text/plain": [
       "[<matplotlib.lines.Line2D at 0x259959e4310>]"
      ]
     },
     "execution_count": 17,
     "metadata": {},
     "output_type": "execute_result"
    },
    {
     "data": {
      "image/png": "[encoded data removed]",
      "text/plain": [
       "<Figure size 432x288 with 1 Axes>"
      ]
     },
     "metadata": {
      "needs_background": "light"
     },
     "output_type": "display_data"
    }
   ],
   "source": [
    "import matplotlib.pyplot as plt\n",
    "plt.plot(list(set_same),y_same)"
   ]
  },
  {
   "cell_type": "code",
   "execution_count": 18,
   "id": "40983890-2ada-4081-bbb2-b81d74292bc6",
   "metadata": {},
   "outputs": [
    {
     "data": {
      "text/plain": [
       "[<matplotlib.lines.Line2D at 0x259961873d0>]"
      ]
     },
     "execution_count": 18,
     "metadata": {},
     "output_type": "execute_result"
    },
    {
     "data": {
      "image/png": "[encoded data removed]",
      "text/plain": [
       "<Figure size 432x288 with 1 Axes>"
      ]
     },
     "metadata": {
      "needs_background": "light"
     },
     "output_type": "display_data"
    }
   ],
   "source": [
    "plt.plot(list(set_diff),y_diff)"
   ]
  },
  {
   "cell_type": "code",
   "execution_count": 19,
   "id": "73f72d9c-01ca-4fef-bbee-99f8eb2ae38a",
   "metadata": {},
   "outputs": [
    {
     "data": {
      "text/plain": [
       "<matplotlib.legend.Legend at 0x25996208190>"
      ]
     },
     "execution_count": 19,
     "metadata": {},
     "output_type": "execute_result"
    },
    {
     "data": {
      "image/png": "[encoded data removed]",
      "text/plain": [
       "<Figure size 432x288 with 1 Axes>"
      ]
     },
     "metadata": {
      "needs_background": "light"
     },
     "output_type": "display_data"
    }
   ],
   "source": [
    "plt.plot(list(set_same),y_same,color='r',label='same')\n",
    "plt.plot(list(set_diff),y_diff,color='b',label='different')\n",
    "plt.legend()"
   ]
  },
  {
   "cell_type": "code",
   "execution_count": 31,
   "id": "416853bb-f3ab-4703-ab71-cca7e38cf7a1",
   "metadata": {},
   "outputs": [],
   "source": [
    "threshold=range(0,40,1)"
   ]
  },
  {
   "cell_type": "code",
   "execution_count": 21,
   "id": "05179dd7-9a69-4d74-94ae-cba4a758b586",
   "metadata": {},
   "outputs": [
    {
     "data": {
      "text/html": [
       "<div>\n",
       "<style scoped>\n",
       "    .dataframe tbody tr th:only-of-type {\n",
       "        vertical-align: middle;\n",
       "    }\n",
       "\n",
       "    .dataframe tbody tr th {\n",
       "        vertical-align: top;\n",
       "    }\n",
       "\n",
       "    .dataframe thead th {\n",
       "        text-align: right;\n",
       "    }\n",
       "</style>\n",
       "<table border=\"1\" class=\"dataframe\">\n",
       "  <thead>\n",
       "    <tr style=\"text-align: right;\">\n",
       "      <th></th>\n",
       "      <th>idx</th>\n",
       "      <th>text_left</th>\n",
       "      <th>text_right</th>\n",
       "      <th>label</th>\n",
       "    </tr>\n",
       "  </thead>\n",
       "  <tbody>\n",
       "    <tr>\n",
       "      <th>0</th>\n",
       "      <td>0</td>\n",
       "      <td>microsoft visual studio test agent 2005 cd 1 p...</td>\n",
       "      <td>individual software professor teaches microsof...</td>\n",
       "      <td>0</td>\n",
       "    </tr>\n",
       "    <tr>\n",
       "      <th>1</th>\n",
       "      <td>1</td>\n",
       "      <td>adobe dreamweaver cs3 [ mac ] adobe 399.0</td>\n",
       "      <td>adobe cs3 web premium 1659.99</td>\n",
       "      <td>0</td>\n",
       "    </tr>\n",
       "    <tr>\n",
       "      <th>2</th>\n",
       "      <td>2</td>\n",
       "      <td>instant immersion spanish 2.0 topics entertain...</td>\n",
       "      <td>instant immers japanese dlx 2 . 36.11</td>\n",
       "      <td>0</td>\n",
       "    </tr>\n",
       "    <tr>\n",
       "      <th>3</th>\n",
       "      <td>3</td>\n",
       "      <td>i transfer dvds 2 ipod edition ( win/mac ) me-...</td>\n",
       "      <td>ghost recon gold edition ( dvd-rom ) 20.95</td>\n",
       "      <td>0</td>\n",
       "    </tr>\n",
       "    <tr>\n",
       "      <th>4</th>\n",
       "      <td>4</td>\n",
       "      <td>adobe flash pro cs3 upgrade [ mac ] adobe 199.0</td>\n",
       "      <td>adobe illustrator cs3 ( mac ) 599.0</td>\n",
       "      <td>0</td>\n",
       "    </tr>\n",
       "    <tr>\n",
       "      <th>...</th>\n",
       "      <td>...</td>\n",
       "      <td>...</td>\n",
       "      <td>...</td>\n",
       "      <td>...</td>\n",
       "    </tr>\n",
       "    <tr>\n",
       "      <th>2288</th>\n",
       "      <td>2288</td>\n",
       "      <td>instant immersion german audio topics entertai...</td>\n",
       "      <td>instant immers french dlx 2 27.57</td>\n",
       "      <td>0</td>\n",
       "    </tr>\n",
       "    <tr>\n",
       "      <th>2289</th>\n",
       "      <td>2289</td>\n",
       "      <td>adobe flash pro cs3 [ mac ] adobe 699.0</td>\n",
       "      <td>38039295dm adobe flash cs3 professional v. 9 m...</td>\n",
       "      <td>0</td>\n",
       "    </tr>\n",
       "    <tr>\n",
       "      <th>2290</th>\n",
       "      <td>2290</td>\n",
       "      <td>let 's learn about time &amp; date selectsoft publ...</td>\n",
       "      <td>it 's about time products learn the switch to ...</td>\n",
       "      <td>0</td>\n",
       "    </tr>\n",
       "    <tr>\n",
       "      <th>2291</th>\n",
       "      <td>2291</td>\n",
       "      <td>quicken legal business pro 2007 nolo press 79.99</td>\n",
       "      <td>quickbooks ( r ) pro 2007 179.99</td>\n",
       "      <td>0</td>\n",
       "    </tr>\n",
       "    <tr>\n",
       "      <th>2292</th>\n",
       "      <td>2292</td>\n",
       "      <td>microsoft office 2004 standard upgrade ( mac )...</td>\n",
       "      <td>microsoft ( r ) project standard 2007 349.95</td>\n",
       "      <td>0</td>\n",
       "    </tr>\n",
       "  </tbody>\n",
       "</table>\n",
       "<p>2293 rows × 4 columns</p>\n",
       "</div>"
      ],
      "text/plain": [
       "       idx                                          text_left  \\\n",
       "0        0  microsoft visual studio test agent 2005 cd 1 p...   \n",
       "1        1          adobe dreamweaver cs3 [ mac ] adobe 399.0   \n",
       "2        2  instant immersion spanish 2.0 topics entertain...   \n",
       "3        3  i transfer dvds 2 ipod edition ( win/mac ) me-...   \n",
       "4        4    adobe flash pro cs3 upgrade [ mac ] adobe 199.0   \n",
       "...    ...                                                ...   \n",
       "2288  2288  instant immersion german audio topics entertai...   \n",
       "2289  2289            adobe flash pro cs3 [ mac ] adobe 699.0   \n",
       "2290  2290  let 's learn about time & date selectsoft publ...   \n",
       "2291  2291   quicken legal business pro 2007 nolo press 79.99   \n",
       "2292  2292  microsoft office 2004 standard upgrade ( mac )...   \n",
       "\n",
       "                                             text_right  label  \n",
       "0     individual software professor teaches microsof...      0  \n",
       "1                         adobe cs3 web premium 1659.99      0  \n",
       "2                 instant immers japanese dlx 2 . 36.11      0  \n",
       "3            ghost recon gold edition ( dvd-rom ) 20.95      0  \n",
       "4                   adobe illustrator cs3 ( mac ) 599.0      0  \n",
       "...                                                 ...    ...  \n",
       "2288                  instant immers french dlx 2 27.57      0  \n",
       "2289  38039295dm adobe flash cs3 professional v. 9 m...      0  \n",
       "2290  it 's about time products learn the switch to ...      0  \n",
       "2291                   quickbooks ( r ) pro 2007 179.99      0  \n",
       "2292       microsoft ( r ) project standard 2007 349.95      0  \n",
       "\n",
       "[2293 rows x 4 columns]"
      ]
     },
     "execution_count": 21,
     "metadata": {},
     "output_type": "execute_result"
    }
   ],
   "source": [
    "amazon_test = pd.read_csv(\"amazon_test.tsv\", sep=\"\\t\")\n",
    "amazon_test"
   ]
  },
  {
   "cell_type": "code",
   "execution_count": 22,
   "id": "a803de32-9f79-43a1-810e-bbd9069df11a",
   "metadata": {},
   "outputs": [],
   "source": [
    "test_left=amazon_test['text_left']\n",
    "test_right=amazon_test['text_right']"
   ]
  },
  {
   "cell_type": "code",
   "execution_count": 23,
   "id": "4ccbda42-cd12-4bc1-8b3b-66eb3dd2002f",
   "metadata": {},
   "outputs": [],
   "source": [
    "length_test=len(test_left)"
   ]
  },
  {
   "cell_type": "code",
   "execution_count": 24,
   "id": "ced9b602-f883-4a8a-a564-118776dd1691",
   "metadata": {},
   "outputs": [],
   "source": [
    "dist_test=[]\n",
    "for i in range(length_test):\n",
    "    d=charDistance(test_left[i],test_right[i])\n",
    "    dist_test.append(d)"
   ]
  },
  {
   "cell_type": "code",
   "execution_count": 25,
   "id": "256a9a09-2428-48ee-b570-b2f9f87b44dd",
   "metadata": {},
   "outputs": [],
   "source": [
    "test_label=amazon_test['label']"
   ]
  },
  {
   "cell_type": "code",
   "execution_count": 32,
   "id": "b5426e68-d747-47b7-8f59-544a5722dc23",
   "metadata": {},
   "outputs": [],
   "source": [
    "accuracy=[]\n",
    "for i in range(len(threshold)):\n",
    "    predict=[]\n",
    "    for j in range(len(dist_test)):\n",
    "        if dist_test[j]<=threshold[i]:\n",
    "            predict.append(1)\n",
    "        else:\n",
    "            predict.append(0)\n",
    "    count=0\n",
    "    for k in range(len(dist_test)):\n",
    "        if predict[k]==test_label[k]:\n",
    "            count=count+1\n",
    "    a=count/len(test_label)\n",
    "    accuracy.append(a)  "
   ]
  },
  {
   "cell_type": "code",
   "execution_count": 33,
   "id": "e9cf65bb-cfc5-4ecc-8d25-c7702f893e92",
   "metadata": {
    "tags": []
   },
   "outputs": [
    {
     "data": {
      "text/plain": [
       "[0.8983863933711296,\n",
       " 0.8983863933711296,\n",
       " 0.8983863933711296,\n",
       " 0.8983863933711296,\n",
       " 0.8988225032708242,\n",
       " 0.8992586131705189,\n",
       " 0.8992586131705189,\n",
       " 0.8992586131705189,\n",
       " 0.8992586131705189,\n",
       " 0.8992586131705189,\n",
       " 0.8992586131705189,\n",
       " 0.8983863933711296,\n",
       " 0.8966419537723507,\n",
       " 0.8957697339729612,\n",
       " 0.8953336240732664,\n",
       " 0.8948975141735718,\n",
       " 0.8948975141735718,\n",
       " 0.8909725250763192,\n",
       " 0.8853030963802878,\n",
       " 0.8805058874836459,\n",
       " 0.8752725686873092,\n",
       " 0.8687309201918884,\n",
       " 0.8604448320976886,\n",
       " 0.8512865242040994,\n",
       " 0.8368948975141736,\n",
       " 0.8242477104230266,\n",
       " 0.8089838639337112,\n",
       " 0.7841255996511121,\n",
       " 0.7706061927605756,\n",
       " 0.7488006977758395,\n",
       " 0.729175752289577,\n",
       " 0.7091146969036197,\n",
       " 0.688181421718273,\n",
       " 0.6681203663323158,\n",
       " 0.6423898822503271,\n",
       " 0.6214566070649804,\n",
       " 0.5939816833842129,\n",
       " 0.5660706498037505,\n",
       " 0.5390318360226777,\n",
       " 0.5137374618403838]"
      ]
     },
     "execution_count": 33,
     "metadata": {},
     "output_type": "execute_result"
    }
   ],
   "source": [
    "accuracy"
   ]
  },
  {
   "cell_type": "code",
   "execution_count": 28,
   "id": "34516a95-678e-4bf1-a99d-f4b1e6f6dfcd",
   "metadata": {},
   "outputs": [
    {
     "data": {
      "text/plain": [
       "0.8992586131705189"
      ]
     },
     "execution_count": 28,
     "metadata": {},
     "output_type": "execute_result"
    }
   ],
   "source": [
    "max(accuracy)"
   ]
  },
  {
   "cell_type": "code",
   "execution_count": 34,
   "id": "a17afcee-d3fd-4513-9f6a-3f59bc22e2be",
   "metadata": {},
   "outputs": [
    {
     "data": {
      "text/html": [
       "<div>\n",
       "<style scoped>\n",
       "    .dataframe tbody tr th:only-of-type {\n",
       "        vertical-align: middle;\n",
       "    }\n",
       "\n",
       "    .dataframe tbody tr th {\n",
       "        vertical-align: top;\n",
       "    }\n",
       "\n",
       "    .dataframe thead th {\n",
       "        text-align: right;\n",
       "    }\n",
       "</style>\n",
       "<table border=\"1\" class=\"dataframe\">\n",
       "  <thead>\n",
       "    <tr style=\"text-align: right;\">\n",
       "      <th></th>\n",
       "      <th>idx</th>\n",
       "      <th>text_left</th>\n",
       "      <th>text_right</th>\n",
       "      <th>label</th>\n",
       "    </tr>\n",
       "  </thead>\n",
       "  <tbody>\n",
       "    <tr>\n",
       "      <th>0</th>\n",
       "      <td>0</td>\n",
       "      <td>adobe creative suite cs3 production premium up...</td>\n",
       "      <td>19600061dm adobe creative suite 3 production p...</td>\n",
       "      <td>0</td>\n",
       "    </tr>\n",
       "    <tr>\n",
       "      <th>1</th>\n",
       "      <td>1</td>\n",
       "      <td>m-audio pro tools m-powered 7.3 m-audio compat...</td>\n",
       "      <td>make finale 2007 software music production sof...</td>\n",
       "      <td>0</td>\n",
       "    </tr>\n",
       "    <tr>\n",
       "      <th>2</th>\n",
       "      <td>2</td>\n",
       "      <td>apple . mac 4.0 online service family pack app...</td>\n",
       "      <td>apple iwork '06 family pack software apple &amp; m...</td>\n",
       "      <td>0</td>\n",
       "    </tr>\n",
       "    <tr>\n",
       "      <th>3</th>\n",
       "      <td>3</td>\n",
       "      <td>punch ! master landscape &amp; home design punch !...</td>\n",
       "      <td>punch software 41100 punch ! home design archi...</td>\n",
       "      <td>0</td>\n",
       "    </tr>\n",
       "    <tr>\n",
       "      <th>4</th>\n",
       "      <td>4</td>\n",
       "      <td>quickbooks premier non-profit edition 2005 int...</td>\n",
       "      <td>quickbooks ( r ) premier : accountant edition ...</td>\n",
       "      <td>0</td>\n",
       "    </tr>\n",
       "    <tr>\n",
       "      <th>...</th>\n",
       "      <td>...</td>\n",
       "      <td>...</td>\n",
       "      <td>...</td>\n",
       "      <td>...</td>\n",
       "    </tr>\n",
       "    <tr>\n",
       "      <th>2288</th>\n",
       "      <td>2288</td>\n",
       "      <td>math success deluxe 2007 topics entertainment ...</td>\n",
       "      <td>math success ( tm ) deluxe 2007 49.99</td>\n",
       "      <td>0</td>\n",
       "    </tr>\n",
       "    <tr>\n",
       "      <th>2289</th>\n",
       "      <td>2289</td>\n",
       "      <td>adobe cs3 design standard macosx dvd adobe 399.0</td>\n",
       "      <td>adobe creative suite 3 ( cs3 ) design premium ...</td>\n",
       "      <td>0</td>\n",
       "    </tr>\n",
       "    <tr>\n",
       "      <th>2290</th>\n",
       "      <td>2290</td>\n",
       "      <td>acrobat professional 8 ( windows ) adobe 273.0</td>\n",
       "      <td>adobe cs3 flash professional academic 239.99</td>\n",
       "      <td>0</td>\n",
       "    </tr>\n",
       "    <tr>\n",
       "      <th>2291</th>\n",
       "      <td>2291</td>\n",
       "      <td>mavis beacon typing 17 deluxe by broderbund en...</td>\n",
       "      <td>encore software 10072 mavis beacon typing 17 d...</td>\n",
       "      <td>1</td>\n",
       "    </tr>\n",
       "    <tr>\n",
       "      <th>2292</th>\n",
       "      <td>2292</td>\n",
       "      <td>microsoft word 2007 version upgrade microsoft ...</td>\n",
       "      <td>microsoft office 2004 std upgrade 219.99</td>\n",
       "      <td>0</td>\n",
       "    </tr>\n",
       "  </tbody>\n",
       "</table>\n",
       "<p>2293 rows × 4 columns</p>\n",
       "</div>"
      ],
      "text/plain": [
       "       idx                                          text_left  \\\n",
       "0        0  adobe creative suite cs3 production premium up...   \n",
       "1        1  m-audio pro tools m-powered 7.3 m-audio compat...   \n",
       "2        2  apple . mac 4.0 online service family pack app...   \n",
       "3        3  punch ! master landscape & home design punch !...   \n",
       "4        4  quickbooks premier non-profit edition 2005 int...   \n",
       "...    ...                                                ...   \n",
       "2288  2288  math success deluxe 2007 topics entertainment ...   \n",
       "2289  2289   adobe cs3 design standard macosx dvd adobe 399.0   \n",
       "2290  2290     acrobat professional 8 ( windows ) adobe 273.0   \n",
       "2291  2291  mavis beacon typing 17 deluxe by broderbund en...   \n",
       "2292  2292  microsoft word 2007 version upgrade microsoft ...   \n",
       "\n",
       "                                             text_right  label  \n",
       "0     19600061dm adobe creative suite 3 production p...      0  \n",
       "1     make finale 2007 software music production sof...      0  \n",
       "2     apple iwork '06 family pack software apple & m...      0  \n",
       "3     punch software 41100 punch ! home design archi...      0  \n",
       "4     quickbooks ( r ) premier : accountant edition ...      0  \n",
       "...                                                 ...    ...  \n",
       "2288              math success ( tm ) deluxe 2007 49.99      0  \n",
       "2289  adobe creative suite 3 ( cs3 ) design premium ...      0  \n",
       "2290       adobe cs3 flash professional academic 239.99      0  \n",
       "2291  encore software 10072 mavis beacon typing 17 d...      1  \n",
       "2292           microsoft office 2004 std upgrade 219.99      0  \n",
       "\n",
       "[2293 rows x 4 columns]"
      ]
     },
     "execution_count": 34,
     "metadata": {},
     "output_type": "execute_result"
    }
   ],
   "source": [
    "amazon_dev = pd.read_csv(\"amazon_dev.tsv\", sep=\"\\t\")\n",
    "amazon_dev"
   ]
  },
  {
   "cell_type": "code",
   "execution_count": 44,
   "id": "715214fc-9120-4076-b32a-70ebb4d522c1",
   "metadata": {},
   "outputs": [],
   "source": [
    "dev_left=amazon_dev['text_left']\n",
    "dev_right=amazon_dev['text_right']"
   ]
  },
  {
   "cell_type": "code",
   "execution_count": 45,
   "id": "e61d561a-35f5-40b1-ba14-b5f680de3aab",
   "metadata": {},
   "outputs": [],
   "source": [
    "length_dev=len(dev_left)\n",
    "threshold=9"
   ]
  },
  {
   "cell_type": "code",
   "execution_count": 46,
   "id": "75b7166d-7839-47a6-ab63-a1eb7f92790d",
   "metadata": {},
   "outputs": [],
   "source": [
    "result_dev=[]\n",
    "for i in range(length_dev):\n",
    "    d=charDistance(test_left[i],test_right[i])\n",
    "    if d<threshold:\n",
    "        result_dev.append(1)\n",
    "    else:\n",
    "        result_dev.append(0)"
   ]
  },
  {
   "cell_type": "code",
   "execution_count": 41,
   "id": "758317f7-0e9b-4ebf-a819-b8486a0b12bb",
   "metadata": {},
   "outputs": [],
   "source": [
    "dev_label=amazon_dev['label']"
   ]
  },
  {
   "cell_type": "code",
   "execution_count": 47,
   "id": "d6ac48db-f0b9-4cb6-91f7-cf4885089bdf",
   "metadata": {},
   "outputs": [],
   "source": [
    "accuracy=0\n",
    "for i in range(length_dev):\n",
    "    if result_dev[i]==dev_label[i]:\n",
    "        accuracy+=1\n",
    "accuracy/=length_test"
   ]
  },
  {
   "cell_type": "code",
   "execution_count": 48,
   "id": "f5ce8cda-49b8-4fb5-9ece-7ee8bc1b747c",
   "metadata": {},
   "outputs": [
    {
     "data": {
      "text/plain": [
       "0.902311382468382"
      ]
     },
     "execution_count": 48,
     "metadata": {},
     "output_type": "execute_result"
    }
   ],
   "source": [
    "accuracy"
   ]
  }
 ],
 "metadata": {
  "kernelspec": {
   "display_name": "Python 3 (ipykernel)",
   "language": "python",
   "name": "python3"
  },
  "language_info": {
   "codemirror_mode": {
    "name": "ipython",
    "version": 3
   },
   "file_extension": ".py",
   "mimetype": "text/x-python",
   "name": "python",
   "nbconvert_exporter": "python",
   "pygments_lexer": "ipython3",
   "version": "3.9.7"
  }
 },
 "nbformat": 4,
 "nbformat_minor": 5
}
