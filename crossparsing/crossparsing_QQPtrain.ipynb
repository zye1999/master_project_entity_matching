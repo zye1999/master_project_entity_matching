{
 "cells": [
  {
   "cell_type": "code",
   "execution_count": 1,
   "id": "930ef323",
   "metadata": {},
   "outputs": [
    {
     "data": {
      "text/html": [
       "<div>\n",
       "<style scoped>\n",
       "    .dataframe tbody tr th:only-of-type {\n",
       "        vertical-align: middle;\n",
       "    }\n",
       "\n",
       "    .dataframe tbody tr th {\n",
       "        vertical-align: top;\n",
       "    }\n",
       "\n",
       "    .dataframe thead th {\n",
       "        text-align: right;\n",
       "    }\n",
       "</style>\n",
       "<table border=\"1\" class=\"dataframe\">\n",
       "  <thead>\n",
       "    <tr style=\"text-align: right;\">\n",
       "      <th></th>\n",
       "      <th>id</th>\n",
       "      <th>qid1</th>\n",
       "      <th>qid2</th>\n",
       "      <th>question1</th>\n",
       "      <th>question2</th>\n",
       "      <th>is_duplicate</th>\n",
       "    </tr>\n",
       "  </thead>\n",
       "  <tbody>\n",
       "    <tr>\n",
       "      <th>0</th>\n",
       "      <td>133273</td>\n",
       "      <td>213221</td>\n",
       "      <td>213222</td>\n",
       "      <td>How is the life of a math student? Could you d...</td>\n",
       "      <td>Which level of prepration is enough for the ex...</td>\n",
       "      <td>0</td>\n",
       "    </tr>\n",
       "    <tr>\n",
       "      <th>1</th>\n",
       "      <td>402555</td>\n",
       "      <td>536040</td>\n",
       "      <td>536041</td>\n",
       "      <td>How do I control my horny emotions?</td>\n",
       "      <td>How do you control your horniness?</td>\n",
       "      <td>1</td>\n",
       "    </tr>\n",
       "    <tr>\n",
       "      <th>2</th>\n",
       "      <td>360472</td>\n",
       "      <td>364011</td>\n",
       "      <td>490273</td>\n",
       "      <td>What causes stool color to change to yellow?</td>\n",
       "      <td>What can cause stool to come out as little balls?</td>\n",
       "      <td>0</td>\n",
       "    </tr>\n",
       "    <tr>\n",
       "      <th>3</th>\n",
       "      <td>150662</td>\n",
       "      <td>155721</td>\n",
       "      <td>7256</td>\n",
       "      <td>What can one do after MBBS?</td>\n",
       "      <td>What do i do after my MBBS ?</td>\n",
       "      <td>1</td>\n",
       "    </tr>\n",
       "    <tr>\n",
       "      <th>4</th>\n",
       "      <td>183004</td>\n",
       "      <td>279958</td>\n",
       "      <td>279959</td>\n",
       "      <td>Where can I find a power outlet for my laptop ...</td>\n",
       "      <td>Would a second airport in Sydney, Australia be...</td>\n",
       "      <td>0</td>\n",
       "    </tr>\n",
       "    <tr>\n",
       "      <th>5</th>\n",
       "      <td>119056</td>\n",
       "      <td>193387</td>\n",
       "      <td>193388</td>\n",
       "      <td>How not to feel guilty since I am Muslim and I...</td>\n",
       "      <td>I don't beleive I am bulimic, but I force thro...</td>\n",
       "      <td>0</td>\n",
       "    </tr>\n",
       "    <tr>\n",
       "      <th>6</th>\n",
       "      <td>356863</td>\n",
       "      <td>422862</td>\n",
       "      <td>96457</td>\n",
       "      <td>How is air traffic controlled?</td>\n",
       "      <td>How do you become an air traffic controller?</td>\n",
       "      <td>0</td>\n",
       "    </tr>\n",
       "    <tr>\n",
       "      <th>7</th>\n",
       "      <td>106969</td>\n",
       "      <td>147570</td>\n",
       "      <td>787</td>\n",
       "      <td>What is the best self help book you have read?...</td>\n",
       "      <td>What are the top self help books I should read?</td>\n",
       "      <td>1</td>\n",
       "    </tr>\n",
       "    <tr>\n",
       "      <th>8</th>\n",
       "      <td>196763</td>\n",
       "      <td>297539</td>\n",
       "      <td>297540</td>\n",
       "      <td>Can I enter University of Melbourne if I could...</td>\n",
       "      <td>University of the Philippines: If I take a sec...</td>\n",
       "      <td>0</td>\n",
       "    </tr>\n",
       "  </tbody>\n",
       "</table>\n",
       "</div>"
      ],
      "text/plain": [
       "       id    qid1    qid2                                          question1  \\\n",
       "0  133273  213221  213222  How is the life of a math student? Could you d...   \n",
       "1  402555  536040  536041                How do I control my horny emotions?   \n",
       "2  360472  364011  490273       What causes stool color to change to yellow?   \n",
       "3  150662  155721    7256                        What can one do after MBBS?   \n",
       "4  183004  279958  279959  Where can I find a power outlet for my laptop ...   \n",
       "5  119056  193387  193388  How not to feel guilty since I am Muslim and I...   \n",
       "6  356863  422862   96457                     How is air traffic controlled?   \n",
       "7  106969  147570     787  What is the best self help book you have read?...   \n",
       "8  196763  297539  297540  Can I enter University of Melbourne if I could...   \n",
       "\n",
       "                                           question2  is_duplicate  \n",
       "0  Which level of prepration is enough for the ex...             0  \n",
       "1                 How do you control your horniness?             1  \n",
       "2  What can cause stool to come out as little balls?             0  \n",
       "3                       What do i do after my MBBS ?             1  \n",
       "4  Would a second airport in Sydney, Australia be...             0  \n",
       "5  I don't beleive I am bulimic, but I force thro...             0  \n",
       "6       How do you become an air traffic controller?             0  \n",
       "7    What are the top self help books I should read?             1  \n",
       "8  University of the Philippines: If I take a sec...             0  "
      ]
     },
     "execution_count": 1,
     "metadata": {},
     "output_type": "execute_result"
    }
   ],
   "source": [
    "import pandas as pd\n",
    "data = pd.read_excel(\"data2.xlsx\")\n",
    "data"
   ]
  },
  {
   "cell_type": "code",
   "execution_count": 2,
   "id": "78787306",
   "metadata": {},
   "outputs": [],
   "source": [
    "ques1=data['question1']\n",
    "ques2=data['question2']"
   ]
  },
  {
   "cell_type": "code",
   "execution_count": 3,
   "id": "6d161f7b",
   "metadata": {},
   "outputs": [],
   "source": [
    "def cp(C,D):\n",
    "    cend=[]\n",
    "    a=-1\n",
    "    b=-1\n",
    "    m=-1\n",
    "    n=-1\n",
    "    target=-1\n",
    "    if C==''or D=='':\n",
    "        s=1   \n",
    "    else:\n",
    "        for i in range(len(C)):\n",
    "            t=1\n",
    "            for j in range(len(D)):\n",
    "                if C[i]== D[j]:\n",
    "                    a=i\n",
    "                    b=j\n",
    "                    m=a\n",
    "                    n=b\n",
    "                while m < len(C) and n<len(D) and C[a:m+1]==D[b:n+1]:\n",
    "                    m=m+1\n",
    "                    n=n+1\n",
    "                long=m-a\n",
    "                if long >= t:\n",
    "                    t = long\n",
    "                    target = m\n",
    "            \n",
    "            x=target-1\n",
    "            y=n-1\n",
    "            if b <len(D) and C[i]==D[b] :\n",
    "                cend.append(x)\n",
    "            else:\n",
    "                cend.append(i)\n",
    "        s_AB = len(set(cend))\n",
    "        z = C.find(D);\n",
    "        if z!=-1:\n",
    "            ss=s_AB-1;\n",
    "        else:\n",
    "            ss = s_AB\n",
    "        s=ss/len(C)    \n",
    "    return s   "
   ]
  },
  {
   "cell_type": "code",
   "execution_count": 4,
   "id": "8e3bda9d",
   "metadata": {},
   "outputs": [],
   "source": [
    "def distCPD(C,D):\n",
    "    s1 = cp(C,D);\n",
    "    s2 = cp(D,C);\n",
    "    dist = 0.5*(s1+s2);\n",
    "    return dist"
   ]
  },
  {
   "cell_type": "code",
   "execution_count": 5,
   "id": "be00488b",
   "metadata": {},
   "outputs": [
    {
     "data": {
      "text/plain": [
       "0    How is the life of a math student? Could you d...\n",
       "1                  How do I control my horny emotions?\n",
       "2         What causes stool color to change to yellow?\n",
       "3                          What can one do after MBBS?\n",
       "4    Where can I find a power outlet for my laptop ...\n",
       "5    How not to feel guilty since I am Muslim and I...\n",
       "6                       How is air traffic controlled?\n",
       "7    What is the best self help book you have read?...\n",
       "8    Can I enter University of Melbourne if I could...\n",
       "Name: question1, dtype: object"
      ]
     },
     "execution_count": 5,
     "metadata": {},
     "output_type": "execute_result"
    }
   ],
   "source": [
    "ques1"
   ]
  },
  {
   "cell_type": "code",
   "execution_count": 6,
   "id": "dc8c868c",
   "metadata": {},
   "outputs": [
    {
     "data": {
      "text/plain": [
       "0    Which level of prepration is enough for the ex...\n",
       "1                   How do you control your horniness?\n",
       "2    What can cause stool to come out as little balls?\n",
       "3                         What do i do after my MBBS ?\n",
       "4    Would a second airport in Sydney, Australia be...\n",
       "5    I don't beleive I am bulimic, but I force thro...\n",
       "6         How do you become an air traffic controller?\n",
       "7      What are the top self help books I should read?\n",
       "8    University of the Philippines: If I take a sec...\n",
       "Name: question2, dtype: object"
      ]
     },
     "execution_count": 6,
     "metadata": {},
     "output_type": "execute_result"
    }
   ],
   "source": [
    "ques2"
   ]
  },
  {
   "cell_type": "code",
   "execution_count": 7,
   "id": "fad01e53",
   "metadata": {},
   "outputs": [
    {
     "data": {
      "text/plain": [
       "['How is the life of a math student Could you describe your own experiences',\n",
       " 'How do I control my horny emotions',\n",
       " 'What causes stool color to change to yellow',\n",
       " 'What can one do after MBBS',\n",
       " 'Where can I find a power outlet for my laptop at Melbourne Airport',\n",
       " \"How not to feel guilty since I am Muslim and I'm conscious we won't have sex together\",\n",
       " 'How is air traffic controlled',\n",
       " 'What is the best self help book you have read Why How did it change your life',\n",
       " \"Can I enter University of Melbourne if I couldn't achieve the guaranteed marks in Trinity College Foundation\"]"
      ]
     },
     "execution_count": 7,
     "metadata": {},
     "output_type": "execute_result"
    }
   ],
   "source": [
    "s1=[]\n",
    "for i in range(len(ques1)):\n",
    "    s1.append(ques1[i].replace('?',''))\n",
    "s1"
   ]
  },
  {
   "cell_type": "code",
   "execution_count": 8,
   "id": "f9e89efa",
   "metadata": {},
   "outputs": [
    {
     "data": {
      "text/plain": [
       "['how is the life of a math student could you describe your own experiences',\n",
       " 'how do i control my horny emotions',\n",
       " 'what causes stool color to change to yellow',\n",
       " 'what can one do after mbbs',\n",
       " 'where can i find a power outlet for my laptop at melbourne airport',\n",
       " \"how not to feel guilty since i am muslim and i'm conscious we won't have sex together\",\n",
       " 'how is air traffic controlled',\n",
       " 'what is the best self help book you have read why how did it change your life',\n",
       " \"can i enter university of melbourne if i couldn't achieve the guaranteed marks in trinity college foundation\"]"
      ]
     },
     "execution_count": 8,
     "metadata": {},
     "output_type": "execute_result"
    }
   ],
   "source": [
    "for i in range(len(s1)):\n",
    "    s1[i]=s1[i].lower()\n",
    "s1"
   ]
  },
  {
   "cell_type": "code",
   "execution_count": 9,
   "id": "e60381e4",
   "metadata": {},
   "outputs": [
    {
     "data": {
      "text/plain": [
       "['Which level of prepration is enough for the exam jlpt5',\n",
       " 'How do you control your horniness',\n",
       " 'What can cause stool to come out as little balls',\n",
       " 'What do i do after my MBBS ',\n",
       " 'Would a second airport in Sydney, Australia be needed if a high-speed rail link was created between Melbourne and Sydney',\n",
       " \"I don't beleive I am bulimic, but I force throw up atleast once a day after I eat something and feel guilty. Should I tell somebody, and if so who\",\n",
       " 'How do you become an air traffic controller',\n",
       " 'What are the top self help books I should read',\n",
       " 'University of the Philippines: If I take a second BFA in the UP College of Fine Arts, can I be exempted from gen. ed. or core subjects']"
      ]
     },
     "execution_count": 9,
     "metadata": {},
     "output_type": "execute_result"
    }
   ],
   "source": [
    "s2=[]\n",
    "for i in range(len(ques2)):\n",
    "    s2.append(ques2[i].replace('?',''))\n",
    "s2"
   ]
  },
  {
   "cell_type": "code",
   "execution_count": 10,
   "id": "91f50c8e",
   "metadata": {},
   "outputs": [
    {
     "data": {
      "text/plain": [
       "['which level of prepration is enough for the exam jlpt5',\n",
       " 'how do you control your horniness',\n",
       " 'what can cause stool to come out as little balls',\n",
       " 'what do i do after my mbbs ',\n",
       " 'would a second airport in sydney, australia be needed if a high-speed rail link was created between melbourne and sydney',\n",
       " \"i don't beleive i am bulimic, but i force throw up atleast once a day after i eat something and feel guilty. should i tell somebody, and if so who\",\n",
       " 'how do you become an air traffic controller',\n",
       " 'what are the top self help books i should read',\n",
       " 'university of the philippines: if i take a second bfa in the up college of fine arts, can i be exempted from gen. ed. or core subjects']"
      ]
     },
     "execution_count": 10,
     "metadata": {},
     "output_type": "execute_result"
    }
   ],
   "source": [
    "for i in range(len(s2)):\n",
    "    s2[i]=s2[i].lower()\n",
    "s2"
   ]
  },
  {
   "cell_type": "code",
   "execution_count": 12,
   "id": "2452bb3b",
   "metadata": {},
   "outputs": [
    {
     "data": {
      "text/plain": [
       "[0.7148655504819889,\n",
       " 0.44786096256684493,\n",
       " 0.47093023255813954,\n",
       " 0.32193732193732194,\n",
       " 0.6087121212121213,\n",
       " 0.5440370668815471,\n",
       " 0.28388131515637527,\n",
       " 0.45750988142292487,\n",
       " 0.5465726920950802]"
      ]
     },
     "execution_count": 12,
     "metadata": {},
     "output_type": "execute_result"
    }
   ],
   "source": [
    "distance=[]\n",
    "for i in range(len(s1)):\n",
    "    d=distCPD(s1[i],s2[i])\n",
    "    distance.append(d)\n",
    "distance    "
   ]
  },
  {
   "cell_type": "code",
   "execution_count": 13,
   "id": "9f66f163",
   "metadata": {},
   "outputs": [
    {
     "data": {
      "text/plain": [
       "0    0\n",
       "1    1\n",
       "2    0\n",
       "3    1\n",
       "4    0\n",
       "5    0\n",
       "6    0\n",
       "7    1\n",
       "8    0\n",
       "Name: is_duplicate, dtype: int64"
      ]
     },
     "execution_count": 13,
     "metadata": {},
     "output_type": "execute_result"
    }
   ],
   "source": [
    "same=data['is_duplicate']\n",
    "same"
   ]
  },
  {
   "cell_type": "code",
   "execution_count": 15,
   "id": "5198fe8a",
   "metadata": {},
   "outputs": [
    {
     "data": {
      "text/plain": [
       "array([[0.        , 1.        , 0.        , 1.        , 0.        ,\n",
       "        0.        , 0.        , 1.        , 0.        ],\n",
       "       [0.71486555, 0.44786096, 0.47093023, 0.32193732, 0.60871212,\n",
       "        0.54403707, 0.28388132, 0.45750988, 0.54657269]])"
      ]
     },
     "execution_count": 15,
     "metadata": {},
     "output_type": "execute_result"
    }
   ],
   "source": [
    "import numpy as np\n",
    "merge = np.vstack((same,distance))\n",
    "merge"
   ]
  },
  {
   "cell_type": "code",
   "execution_count": 19,
   "id": "0dac03fa",
   "metadata": {},
   "outputs": [
    {
     "name": "stdout",
     "output_type": "stream",
     "text": [
      "[0.7148655504819889, 0.47093023255813954, 0.6087121212121213, 0.5440370668815471, 0.28388131515637527, 0.5465726920950802]\n",
      "[0.44786096256684493, 0.32193732193732194, 0.45750988142292487]\n"
     ]
    }
   ],
   "source": [
    "is_same=[]\n",
    "is_diff=[]\n",
    "for i in range(len(distance)):\n",
    "    if same[i]==1:\n",
    "        is_diff.append(distance[i])\n",
    "    else:\n",
    "        is_same.append(distance[i])\n",
    "print(is_same)\n",
    "print(is_diff)"
   ]
  },
  {
   "cell_type": "code",
   "execution_count": 20,
   "id": "f96532d6",
   "metadata": {},
   "outputs": [
    {
     "name": "stdout",
     "output_type": "stream",
     "text": [
      "0.5281664963975421\n",
      "0.40910272197569725\n"
     ]
    }
   ],
   "source": [
    "avg_same= np.mean(is_same)\n",
    "avg_diff=np.mean(is_diff)\n",
    "print(avg_same)\n",
    "print(avg_diff)"
   ]
  },
  {
   "cell_type": "code",
   "execution_count": 21,
   "id": "65c7efc4",
   "metadata": {},
   "outputs": [
    {
     "data": {
      "text/plain": [
       "0.45750988142292487"
      ]
     },
     "execution_count": 21,
     "metadata": {},
     "output_type": "execute_result"
    }
   ],
   "source": [
    "max(is_diff)"
   ]
  },
  {
   "cell_type": "code",
   "execution_count": null,
   "id": "b6ee402c",
   "metadata": {},
   "outputs": [],
   "source": []
  }
 ],
 "metadata": {
  "kernelspec": {
   "display_name": "Python 3 (ipykernel)",
   "language": "python",
   "name": "python3"
  },
  "language_info": {
   "codemirror_mode": {
    "name": "ipython",
    "version": 3
   },
   "file_extension": ".py",
   "mimetype": "text/x-python",
   "name": "python",
   "nbconvert_exporter": "python",
   "pygments_lexer": "ipython3",
   "version": "3.9.7"
  }
 },
 "nbformat": 4,
 "nbformat_minor": 5
}
