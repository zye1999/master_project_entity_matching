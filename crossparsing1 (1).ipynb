{
 "cells": [
  {
   "cell_type": "code",
   "execution_count": 1,
   "id": "ca6d7d02",
   "metadata": {},
   "outputs": [],
   "source": [
    "A=\"\";\n",
    "B=\"\""
   ]
  },
  {
   "cell_type": "code",
   "execution_count": 2,
   "id": "132e7a8d",
   "metadata": {},
   "outputs": [],
   "source": [
    "def cp(C,D):\n",
    "    cend=[]\n",
    "    a=-1\n",
    "    b=-1\n",
    "    m=-1\n",
    "    n=-1\n",
    "    target=-1\n",
    "    if C==''and D=='':\n",
    "        s=0\n",
    "    elif C=='':\n",
    "        s=0\n",
    "    elif D=='':\n",
    "        s=1    \n",
    "    else:\n",
    "        for i in range(len(C)):\n",
    "            t=1\n",
    "            for j in range(len(D)):\n",
    "                if C[i]== D[j]:\n",
    "                    a=i\n",
    "                    b=j\n",
    "                    m=a\n",
    "                    n=b\n",
    "                while m < len(C) and n<len(D) and C[a:m+1]==D[b:n+1]:\n",
    "                    m=m+1\n",
    "                    n=n+1\n",
    "                long=m-a\n",
    "                if long >= t:\n",
    "                    t = long\n",
    "                    target = m\n",
    "            \n",
    "            x=target-1\n",
    "            y=n-1\n",
    "            if b <len(D) and C[i]==D[b] :\n",
    "                cend.append(x)\n",
    "            else:\n",
    "                cend.append(i)\n",
    "        s_AB = len(set(cend))\n",
    "        z = C.find(D);\n",
    "        if z!=-1:\n",
    "            ss=s_AB-1;\n",
    "        else:\n",
    "            ss = s_AB\n",
    "        print(s_AB)    \n",
    "        s=ss/len(C)    \n",
    "    return s     "
   ]
  },
  {
   "cell_type": "code",
   "execution_count": 3,
   "id": "37453586",
   "metadata": {},
   "outputs": [],
   "source": [
    "def distCPD(C,D):\n",
    "    s1 = cp(C,D);\n",
    "    s2 = cp(D,C);\n",
    "    print(s1)\n",
    "    print(s2)\n",
    "    dist = 0.5*(s1+s2);\n",
    "    return dist"
   ]
  },
  {
   "cell_type": "code",
   "execution_count": 4,
   "id": "b2ab3ec0",
   "metadata": {},
   "outputs": [
    {
     "name": "stdout",
     "output_type": "stream",
     "text": [
      "0\n",
      "0\n"
     ]
    },
    {
     "data": {
      "text/plain": [
       "0.0"
      ]
     },
     "execution_count": 4,
     "metadata": {},
     "output_type": "execute_result"
    }
   ],
   "source": [
    "distCPD(A,B)"
   ]
  },
  {
   "cell_type": "markdown",
   "id": "f642e9fa",
   "metadata": {},
   "source": [
    "A=\"bc\";B=\"abcabc\"\\\\\n",
    "A='abcdegj';B='bcdggggj';\\\\\n",
    "A= 'bcd'; B='bbbcdbc'\\\\"
   ]
  },
  {
   "cell_type": "markdown",
   "id": "8a936122",
   "metadata": {},
   "source": []
  }
 ],
 "metadata": {
  "kernelspec": {
   "display_name": "Python 3 (ipykernel)",
   "language": "python",
   "name": "python3"
  },
  "language_info": {
   "codemirror_mode": {
    "name": "ipython",
    "version": 3
   },
   "file_extension": ".py",
   "mimetype": "text/x-python",
   "name": "python",
   "nbconvert_exporter": "python",
   "pygments_lexer": "ipython3",
   "version": "3.9.7"
  }
 },
 "nbformat": 4,
 "nbformat_minor": 5
}
