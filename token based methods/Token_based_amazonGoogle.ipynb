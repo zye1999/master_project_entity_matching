{
 "cells": [
  {
   "cell_type": "code",
   "execution_count": 1,
   "id": "72587789",
   "metadata": {},
   "outputs": [],
   "source": [
    "import pandas as pd\n",
    "import numpy as np\n",
    "import matplotlib.pyplot as plt\n",
    "import collections"
   ]
  },
  {
   "cell_type": "code",
   "execution_count": 2,
   "id": "b3b1b5a7",
   "metadata": {},
   "outputs": [],
   "source": [
    "def withStar(string):\n",
    "  if string=='':\n",
    "    return '';\n",
    "  else:\n",
    "    return '**'+string[:]+'**'"
   ]
  },
  {
   "cell_type": "code",
   "execution_count": 3,
   "id": "e66d7434",
   "metadata": {},
   "outputs": [],
   "source": [
    "def grams(string,num)->list[str]:\n",
    "    string=withStar(string)\n",
    "    begin=len(string)-num;\n",
    "    token=[];\n",
    "    for i in range(begin+1):\n",
    "        a=[];\n",
    "        a=string[i:i+3]\n",
    "        token.append(a);\n",
    "    return token;"
   ]
  },
  {
   "cell_type": "code",
   "execution_count": 4,
   "id": "66015d57",
   "metadata": {},
   "outputs": [],
   "source": [
    "def overlap(string1,string2)->int:\n",
    "    s1=grams(string1,3);\n",
    "    s2=grams(string2,3);\n",
    "    common_elements = list(set(s1).intersection(set(s2)));\n",
    "    lc=len(common_elements);\n",
    "    m=min(len(s1),len(s2));\n",
    "    if m==0: \n",
    "        return 0;\n",
    "    else:\n",
    "        sim1=lc/m;\n",
    "        return sim1;"
   ]
  },
  {
   "cell_type": "code",
   "execution_count": 5,
   "id": "a9c496d2",
   "metadata": {},
   "outputs": [],
   "source": [
    "def jaccard(string1,string2):\n",
    "    s1=grams(string1,3);\n",
    "    s2=grams(string2,3);\n",
    "    common_elements = list(set(s1).intersection(set(s2)));\n",
    "    lc=len(common_elements);\n",
    "    union_elements=list(set(s1).union(set(s2)));\n",
    "    lu=len(union_elements);\n",
    "    if lu==0:\n",
    "        return 0;\n",
    "    else:\n",
    "        sim2 = lc/lu;\n",
    "        return sim2;"
   ]
  },
  {
   "cell_type": "code",
   "execution_count": 6,
   "id": "581d849f",
   "metadata": {},
   "outputs": [],
   "source": [
    "def dice(string1,string2):\n",
    "    s1=grams(string1,3);\n",
    "    s2=grams(string2,3);\n",
    "    common_elements = list(set(s1).intersection(set(s2)));\n",
    "    lc=len(common_elements);\n",
    "    if len(s1)+len(s2)==0:\n",
    "        return 0;\n",
    "    else:\n",
    "        sim3=2*lc/(len(s1)+len(s2));\n",
    "        return sim3;"
   ]
  },
  {
   "cell_type": "code",
   "execution_count": 7,
   "id": "740ad457",
   "metadata": {},
   "outputs": [
    {
     "data": {
      "text/html": [
       "<div>\n",
       "<style scoped>\n",
       "    .dataframe tbody tr th:only-of-type {\n",
       "        vertical-align: middle;\n",
       "    }\n",
       "\n",
       "    .dataframe tbody tr th {\n",
       "        vertical-align: top;\n",
       "    }\n",
       "\n",
       "    .dataframe thead th {\n",
       "        text-align: right;\n",
       "    }\n",
       "</style>\n",
       "<table border=\"1\" class=\"dataframe\">\n",
       "  <thead>\n",
       "    <tr style=\"text-align: right;\">\n",
       "      <th></th>\n",
       "      <th>idx</th>\n",
       "      <th>text_left</th>\n",
       "      <th>text_right</th>\n",
       "      <th>label</th>\n",
       "    </tr>\n",
       "  </thead>\n",
       "  <tbody>\n",
       "    <tr>\n",
       "      <th>0</th>\n",
       "      <td>0</td>\n",
       "      <td>microsoft visio standard 2007 version upgrade ...</td>\n",
       "      <td>adobe cs3 design standard upgrade 413.99</td>\n",
       "      <td>0</td>\n",
       "    </tr>\n",
       "    <tr>\n",
       "      <th>1</th>\n",
       "      <td>1</td>\n",
       "      <td>microsoft mappoint 2006 with gps microsoft 349.0</td>\n",
       "      <td>microsoft student with encarta premium 2008 co...</td>\n",
       "      <td>0</td>\n",
       "    </tr>\n",
       "    <tr>\n",
       "      <th>2</th>\n",
       "      <td>2</td>\n",
       "      <td>adobe after effects professional 7.0 adobe 999.0</td>\n",
       "      <td>adobe flash cs3 professional ( mac ) 699.0</td>\n",
       "      <td>0</td>\n",
       "    </tr>\n",
       "    <tr>\n",
       "      <th>3</th>\n",
       "      <td>3</td>\n",
       "      <td>motu digital performer 5 digital audio softwar...</td>\n",
       "      <td>motu digital performer dp5 software music prod...</td>\n",
       "      <td>1</td>\n",
       "    </tr>\n",
       "    <tr>\n",
       "      <th>4</th>\n",
       "      <td>4</td>\n",
       "      <td>illustrator cs3 13 mac ed 1u adobe-education-b...</td>\n",
       "      <td>adobe illustrator cs3 for mac academic adobe-e...</td>\n",
       "      <td>1</td>\n",
       "    </tr>\n",
       "    <tr>\n",
       "      <th>...</th>\n",
       "      <td>...</td>\n",
       "      <td>...</td>\n",
       "      <td>...</td>\n",
       "      <td>...</td>\n",
       "    </tr>\n",
       "    <tr>\n",
       "      <th>6869</th>\n",
       "      <td>6869</td>\n",
       "      <td>microsoft visual studio team suite 2005 with m...</td>\n",
       "      <td>f1q-00302 microsoft visual studio 2005 profess...</td>\n",
       "      <td>0</td>\n",
       "    </tr>\n",
       "    <tr>\n",
       "      <th>6870</th>\n",
       "      <td>6870</td>\n",
       "      <td>microsoft word 2004 upgrade ( mac ) microsoft ...</td>\n",
       "      <td>microsoft b21-00806 ae mappoint 2006 cd 50.39</td>\n",
       "      <td>0</td>\n",
       "    </tr>\n",
       "    <tr>\n",
       "      <th>6871</th>\n",
       "      <td>6871</td>\n",
       "      <td>adobe after effects professional 7.0 adobe 999.0</td>\n",
       "      <td>15510669dm adobe after effects cs3 professiona...</td>\n",
       "      <td>0</td>\n",
       "    </tr>\n",
       "    <tr>\n",
       "      <th>6872</th>\n",
       "      <td>6872</td>\n",
       "      <td>system care professional avanquest 49.95</td>\n",
       "      <td>microsoft office and windows training professi...</td>\n",
       "      <td>0</td>\n",
       "    </tr>\n",
       "    <tr>\n",
       "      <th>6873</th>\n",
       "      <td>6873</td>\n",
       "      <td>punch ! super home suite punch ! software 49.99</td>\n",
       "      <td>punch software 14100 punch ! professional home...</td>\n",
       "      <td>0</td>\n",
       "    </tr>\n",
       "  </tbody>\n",
       "</table>\n",
       "<p>6874 rows × 4 columns</p>\n",
       "</div>"
      ],
      "text/plain": [
       "       idx                                          text_left  \\\n",
       "0        0  microsoft visio standard 2007 version upgrade ...   \n",
       "1        1   microsoft mappoint 2006 with gps microsoft 349.0   \n",
       "2        2   adobe after effects professional 7.0 adobe 999.0   \n",
       "3        3  motu digital performer 5 digital audio softwar...   \n",
       "4        4  illustrator cs3 13 mac ed 1u adobe-education-b...   \n",
       "...    ...                                                ...   \n",
       "6869  6869  microsoft visual studio team suite 2005 with m...   \n",
       "6870  6870  microsoft word 2004 upgrade ( mac ) microsoft ...   \n",
       "6871  6871   adobe after effects professional 7.0 adobe 999.0   \n",
       "6872  6872           system care professional avanquest 49.95   \n",
       "6873  6873    punch ! super home suite punch ! software 49.99   \n",
       "\n",
       "                                             text_right  label  \n",
       "0              adobe cs3 design standard upgrade 413.99      0  \n",
       "1     microsoft student with encarta premium 2008 co...      0  \n",
       "2            adobe flash cs3 professional ( mac ) 699.0      0  \n",
       "3     motu digital performer dp5 software music prod...      1  \n",
       "4     adobe illustrator cs3 for mac academic adobe-e...      1  \n",
       "...                                                 ...    ...  \n",
       "6869  f1q-00302 microsoft visual studio 2005 profess...      0  \n",
       "6870      microsoft b21-00806 ae mappoint 2006 cd 50.39      0  \n",
       "6871  15510669dm adobe after effects cs3 professiona...      0  \n",
       "6872  microsoft office and windows training professi...      0  \n",
       "6873  punch software 14100 punch ! professional home...      0  \n",
       "\n",
       "[6874 rows x 4 columns]"
      ]
     },
     "execution_count": 7,
     "metadata": {},
     "output_type": "execute_result"
    }
   ],
   "source": [
    "amazon_train = pd.read_csv(\"amazonGoogle_train.tsv\", sep=\"\\t\")\n",
    "amazon_train"
   ]
  },
  {
   "cell_type": "code",
   "execution_count": 8,
   "id": "7ef283c9",
   "metadata": {},
   "outputs": [],
   "source": [
    "question1=amazon_train['text_left']\n",
    "question2=amazon_train['text_right']\n",
    "mark=amazon_train['label']"
   ]
  },
  {
   "cell_type": "code",
   "execution_count": 9,
   "id": "7732f844",
   "metadata": {},
   "outputs": [
    {
     "data": {
      "text/plain": [
       "0       microsoft visio standard 2007 version upgrade ...\n",
       "1        microsoft mappoint 2006 with gps microsoft 349.0\n",
       "2        adobe after effects professional 7.0 adobe 999.0\n",
       "3       motu digital performer 5 digital audio softwar...\n",
       "4       illustrator cs3 13 mac ed 1u adobe-education-b...\n",
       "                              ...                        \n",
       "6869    microsoft visual studio team suite 2005 with m...\n",
       "6870    microsoft word 2004 upgrade ( mac ) microsoft ...\n",
       "6871     adobe after effects professional 7.0 adobe 999.0\n",
       "6872             system care professional avanquest 49.95\n",
       "6873      punch ! super home suite punch ! software 49.99\n",
       "Name: text_left, Length: 6874, dtype: object"
      ]
     },
     "execution_count": 9,
     "metadata": {},
     "output_type": "execute_result"
    }
   ],
   "source": [
    "# #data processing\n",
    "# question1_token=[]\n",
    "# question2_token=[]\n",
    "# for i in range(len(question1)):\n",
    "#     question1_token.append(grams(question1[i],3))\n",
    "# for i in range(len(question2)):\n",
    "#     question2_token.append(grams(question2[i],3))\n",
    "question1"
   ]
  },
  {
   "cell_type": "code",
   "execution_count": 10,
   "id": "2866c7a9",
   "metadata": {},
   "outputs": [
    {
     "data": {
      "text/plain": [
       "0                adobe cs3 design standard upgrade 413.99\n",
       "1       microsoft student with encarta premium 2008 co...\n",
       "2              adobe flash cs3 professional ( mac ) 699.0\n",
       "3       motu digital performer dp5 software music prod...\n",
       "4       adobe illustrator cs3 for mac academic adobe-e...\n",
       "                              ...                        \n",
       "6869    f1q-00302 microsoft visual studio 2005 profess...\n",
       "6870        microsoft b21-00806 ae mappoint 2006 cd 50.39\n",
       "6871    15510669dm adobe after effects cs3 professiona...\n",
       "6872    microsoft office and windows training professi...\n",
       "6873    punch software 14100 punch ! professional home...\n",
       "Name: text_right, Length: 6874, dtype: object"
      ]
     },
     "execution_count": 10,
     "metadata": {},
     "output_type": "execute_result"
    }
   ],
   "source": [
    "question2"
   ]
  },
  {
   "cell_type": "code",
   "execution_count": 11,
   "id": "fedc0744",
   "metadata": {},
   "outputs": [],
   "source": [
    "#calculate the overlap coefficient\n",
    "overlap_coefficient=[]\n",
    "for i in range(len(question1)):\n",
    "    overlap_coefficient.append(overlap(question1[i],question2[i]))"
   ]
  },
  {
   "cell_type": "code",
   "execution_count": 12,
   "id": "5c020741",
   "metadata": {},
   "outputs": [],
   "source": [
    "#get the equal coefficient\n",
    "equal_overlap=[]\n",
    "for i in range(len(overlap_coefficient)):\n",
    "    if mark[i]==1:\n",
    "        equal_overlap.append(overlap_coefficient[i])\n",
    "#         print(\"The two sentence is equal, overlap coefficient is:\",overlap_coefficient[i])\n",
    "#         print(question1[i])\n",
    "#         print(question2[i])\n",
    "#         print('-'*50)"
   ]
  },
  {
   "cell_type": "code",
   "execution_count": 13,
   "id": "6ddb6026",
   "metadata": {},
   "outputs": [],
   "source": [
    "#get the equal coefficient\n",
    "inequal_overlap=[]\n",
    "for i in range(len(overlap_coefficient)):\n",
    "    if mark[i]==0:\n",
    "        inequal_overlap.append(overlap_coefficient[i])\n",
    "#         print(\"The two sentence is not equal, overlap coefficient is:\",overlap_coefficient[i])\n",
    "#         print(question1[i])\n",
    "#         print(question2[i])\n",
    "#         print('-'*50)"
   ]
  },
  {
   "cell_type": "code",
   "execution_count": 14,
   "id": "67174066",
   "metadata": {},
   "outputs": [
    {
     "data": {
      "image/png": "[encoded data removed]",
      "text/plain": [
       "<Figure size 432x288 with 1 Axes>"
      ]
     },
     "metadata": {
      "needs_background": "light"
     },
     "output_type": "display_data"
    }
   ],
   "source": [
    "for i in range(len(overlap_coefficient)):\n",
    "    if overlap_coefficient[i] in equal_overlap:\n",
    "        plt.scatter(i,overlap_coefficient[i],color='r')\n",
    "    else:\n",
    "        plt.scatter(i,overlap_coefficient[i],color='b')\n",
    "##thershold 0.5"
   ]
  },
  {
   "cell_type": "code",
   "execution_count": 15,
   "id": "f971ddba",
   "metadata": {},
   "outputs": [],
   "source": [
    "# x=np.linspace(0,1,len(inequal_overlap))\n",
    "# plt.plot(x,inequal_overlap)"
   ]
  },
  {
   "cell_type": "code",
   "execution_count": 16,
   "id": "259a4f94",
   "metadata": {},
   "outputs": [],
   "source": [
    "#calculate the jaccard coefficient\n",
    "jaccard_coefficient=[]\n",
    "for i in range(len(question1)):\n",
    "    jaccard_coefficient.append(jaccard(question1[i],question2[i]))"
   ]
  },
  {
   "cell_type": "code",
   "execution_count": 17,
   "id": "06b73f27",
   "metadata": {},
   "outputs": [],
   "source": [
    "#get the equal coefficient\n",
    "equal_jaccard=[]\n",
    "for i in range(len(jaccard_coefficient)):\n",
    "    if mark[i]==1:\n",
    "        equal_jaccard.append(jaccard_coefficient[i])\n",
    "#         print(\"The two sentence is equal, overlap coefficient is:\",jaccard_coefficient[i])\n",
    "#         print(question1[i])\n",
    "#         print(question2[i])\n",
    "#         print('-'*50)"
   ]
  },
  {
   "cell_type": "code",
   "execution_count": 18,
   "id": "c0191a0a",
   "metadata": {},
   "outputs": [],
   "source": [
    "#get the inequal coefficient\n",
    "inequal_jaccard=[]\n",
    "for i in range(len(jaccard_coefficient)):\n",
    "    if mark[i]==0:\n",
    "        inequal_jaccard.append(jaccard_coefficient[i])\n",
    "#         print(\"The two sentence is not equal, overlap coefficient is:\",jaccard_coefficient[i])\n",
    "#         print(question1[i])\n",
    "#         print(question2[i])\n",
    "#         print('-'*50)"
   ]
  },
  {
   "cell_type": "code",
   "execution_count": 19,
   "id": "2eae5e44",
   "metadata": {},
   "outputs": [
    {
     "data": {
      "image/png": "[encoded data removed]",
      "text/plain": [
       "<Figure size 432x288 with 1 Axes>"
      ]
     },
     "metadata": {
      "needs_background": "light"
     },
     "output_type": "display_data"
    }
   ],
   "source": [
    "for i in range(len(jaccard_coefficient)):\n",
    "    if jaccard_coefficient[i] in inequal_jaccard:\n",
    "        plt.scatter(i,jaccard_coefficient[i],color='r')\n",
    "    else:\n",
    "        plt.scatter(i,jaccard_coefficient[i],color='b')\n",
    "# worse than overlap coeffient"
   ]
  },
  {
   "cell_type": "code",
   "execution_count": 20,
   "id": "3b7084ce",
   "metadata": {},
   "outputs": [],
   "source": [
    "#calculate the dice's coefficient\n",
    "dice_coefficient=[]\n",
    "for i in range(len(question1)):\n",
    "    dice_coefficient.append(dice(question1[i],question2[i]))"
   ]
  },
  {
   "cell_type": "code",
   "execution_count": 21,
   "id": "110f9310",
   "metadata": {},
   "outputs": [],
   "source": [
    "#get the equal coefficient\n",
    "equal_dice=[]\n",
    "for i in range(len(dice_coefficient)):\n",
    "    if mark[i]==1:\n",
    "        equal_dice.append(dice_coefficient[i])\n",
    "#         print(\"The two sentence is equal, overlap coefficient is:\",dice_coefficient[i])\n",
    "#         print(question1[i])\n",
    "#         print(question2[i])\n",
    "#         print('-'*50)"
   ]
  },
  {
   "cell_type": "code",
   "execution_count": 22,
   "id": "ea658d40",
   "metadata": {},
   "outputs": [],
   "source": [
    "#get the inequal coefficient\n",
    "inequal_dice=[]\n",
    "for i in range(len(dice_coefficient)):\n",
    "    if mark[i]==0:\n",
    "        inequal_dice.append(dice_coefficient[i])\n",
    "#         print(\"The two sentence is not equal, overlap coefficient is:\",dice_coefficient[i])\n",
    "#         print(question1[i])\n",
    "#         print(question2[i])\n",
    "#         print('-'*50)"
   ]
  },
  {
   "cell_type": "code",
   "execution_count": 23,
   "id": "0c123b28",
   "metadata": {},
   "outputs": [
    {
     "data": {
      "image/png": "[encoded data removed]",
      "text/plain": [
       "<Figure size 432x288 with 1 Axes>"
      ]
     },
     "metadata": {
      "needs_background": "light"
     },
     "output_type": "display_data"
    }
   ],
   "source": [
    "for i in range(len(dice_coefficient)):\n",
    "    if dice_coefficient[i] in inequal_dice:\n",
    "        plt.scatter(i,dice_coefficient[i],color='r')\n",
    "    else:\n",
    "        plt.scatter(i,dice_coefficient[i],color='b')"
   ]
  },
  {
   "cell_type": "code",
   "execution_count": 24,
   "id": "d25b38ea",
   "metadata": {},
   "outputs": [],
   "source": [
    "# use equal weight in each coefficient\n",
    "coefficient=[]\n",
    "for i in range(len(mark)):\n",
    "    coefficient.append(overlap_coefficient[i]/3+jaccard_coefficient[i]/3+dice_coefficient[i]/3)"
   ]
  },
  {
   "cell_type": "code",
   "execution_count": 25,
   "id": "ba0e71c4",
   "metadata": {},
   "outputs": [
    {
     "data": {
      "image/png": "[encoded data removed]",
      "text/plain": [
       "<Figure size 432x288 with 1 Axes>"
      ]
     },
     "metadata": {
      "needs_background": "light"
     },
     "output_type": "display_data"
    }
   ],
   "source": [
    "for i in range(len(coefficient)):\n",
    "    if mark[i]==1:\n",
    "        plt.scatter(i,coefficient[i],color='r')\n",
    "    else:\n",
    "        plt.scatter(i,coefficient[i],color='b')\n",
    "# same as overlap coefficient"
   ]
  },
  {
   "cell_type": "code",
   "execution_count": 26,
   "id": "7dbf9c9e",
   "metadata": {},
   "outputs": [],
   "source": [
    "amazon_test = pd.read_csv(\"amazonGoogle_test.tsv\", sep=\"\\t\")"
   ]
  },
  {
   "cell_type": "code",
   "execution_count": 27,
   "id": "8a14d1ef",
   "metadata": {},
   "outputs": [
    {
     "data": {
      "text/html": [
       "<div>\n",
       "<style scoped>\n",
       "    .dataframe tbody tr th:only-of-type {\n",
       "        vertical-align: middle;\n",
       "    }\n",
       "\n",
       "    .dataframe tbody tr th {\n",
       "        vertical-align: top;\n",
       "    }\n",
       "\n",
       "    .dataframe thead th {\n",
       "        text-align: right;\n",
       "    }\n",
       "</style>\n",
       "<table border=\"1\" class=\"dataframe\">\n",
       "  <thead>\n",
       "    <tr style=\"text-align: right;\">\n",
       "      <th></th>\n",
       "      <th>idx</th>\n",
       "      <th>text_left</th>\n",
       "      <th>text_right</th>\n",
       "      <th>label</th>\n",
       "    </tr>\n",
       "  </thead>\n",
       "  <tbody>\n",
       "    <tr>\n",
       "      <th>0</th>\n",
       "      <td>0</td>\n",
       "      <td>microsoft visual studio test agent 2005 cd 1 p...</td>\n",
       "      <td>individual software professor teaches microsof...</td>\n",
       "      <td>0</td>\n",
       "    </tr>\n",
       "    <tr>\n",
       "      <th>1</th>\n",
       "      <td>1</td>\n",
       "      <td>adobe dreamweaver cs3 [ mac ] adobe 399.0</td>\n",
       "      <td>adobe cs3 web premium 1659.99</td>\n",
       "      <td>0</td>\n",
       "    </tr>\n",
       "    <tr>\n",
       "      <th>2</th>\n",
       "      <td>2</td>\n",
       "      <td>instant immersion spanish 2.0 topics entertain...</td>\n",
       "      <td>instant immers japanese dlx 2 . 36.11</td>\n",
       "      <td>0</td>\n",
       "    </tr>\n",
       "    <tr>\n",
       "      <th>3</th>\n",
       "      <td>3</td>\n",
       "      <td>i transfer dvds 2 ipod edition ( win/mac ) me-...</td>\n",
       "      <td>ghost recon gold edition ( dvd-rom ) 20.95</td>\n",
       "      <td>0</td>\n",
       "    </tr>\n",
       "    <tr>\n",
       "      <th>4</th>\n",
       "      <td>4</td>\n",
       "      <td>adobe flash pro cs3 upgrade [ mac ] adobe 199.0</td>\n",
       "      <td>adobe illustrator cs3 ( mac ) 599.0</td>\n",
       "      <td>0</td>\n",
       "    </tr>\n",
       "    <tr>\n",
       "      <th>...</th>\n",
       "      <td>...</td>\n",
       "      <td>...</td>\n",
       "      <td>...</td>\n",
       "      <td>...</td>\n",
       "    </tr>\n",
       "    <tr>\n",
       "      <th>2288</th>\n",
       "      <td>2288</td>\n",
       "      <td>instant immersion german audio topics entertai...</td>\n",
       "      <td>instant immers french dlx 2 27.57</td>\n",
       "      <td>0</td>\n",
       "    </tr>\n",
       "    <tr>\n",
       "      <th>2289</th>\n",
       "      <td>2289</td>\n",
       "      <td>adobe flash pro cs3 [ mac ] adobe 699.0</td>\n",
       "      <td>38039295dm adobe flash cs3 professional v. 9 m...</td>\n",
       "      <td>0</td>\n",
       "    </tr>\n",
       "    <tr>\n",
       "      <th>2290</th>\n",
       "      <td>2290</td>\n",
       "      <td>let 's learn about time &amp; date selectsoft publ...</td>\n",
       "      <td>it 's about time products learn the switch to ...</td>\n",
       "      <td>0</td>\n",
       "    </tr>\n",
       "    <tr>\n",
       "      <th>2291</th>\n",
       "      <td>2291</td>\n",
       "      <td>quicken legal business pro 2007 nolo press 79.99</td>\n",
       "      <td>quickbooks ( r ) pro 2007 179.99</td>\n",
       "      <td>0</td>\n",
       "    </tr>\n",
       "    <tr>\n",
       "      <th>2292</th>\n",
       "      <td>2292</td>\n",
       "      <td>microsoft office 2004 standard upgrade ( mac )...</td>\n",
       "      <td>microsoft ( r ) project standard 2007 349.95</td>\n",
       "      <td>0</td>\n",
       "    </tr>\n",
       "  </tbody>\n",
       "</table>\n",
       "<p>2293 rows × 4 columns</p>\n",
       "</div>"
      ],
      "text/plain": [
       "       idx                                          text_left  \\\n",
       "0        0  microsoft visual studio test agent 2005 cd 1 p...   \n",
       "1        1          adobe dreamweaver cs3 [ mac ] adobe 399.0   \n",
       "2        2  instant immersion spanish 2.0 topics entertain...   \n",
       "3        3  i transfer dvds 2 ipod edition ( win/mac ) me-...   \n",
       "4        4    adobe flash pro cs3 upgrade [ mac ] adobe 199.0   \n",
       "...    ...                                                ...   \n",
       "2288  2288  instant immersion german audio topics entertai...   \n",
       "2289  2289            adobe flash pro cs3 [ mac ] adobe 699.0   \n",
       "2290  2290  let 's learn about time & date selectsoft publ...   \n",
       "2291  2291   quicken legal business pro 2007 nolo press 79.99   \n",
       "2292  2292  microsoft office 2004 standard upgrade ( mac )...   \n",
       "\n",
       "                                             text_right  label  \n",
       "0     individual software professor teaches microsof...      0  \n",
       "1                         adobe cs3 web premium 1659.99      0  \n",
       "2                 instant immers japanese dlx 2 . 36.11      0  \n",
       "3            ghost recon gold edition ( dvd-rom ) 20.95      0  \n",
       "4                   adobe illustrator cs3 ( mac ) 599.0      0  \n",
       "...                                                 ...    ...  \n",
       "2288                  instant immers french dlx 2 27.57      0  \n",
       "2289  38039295dm adobe flash cs3 professional v. 9 m...      0  \n",
       "2290  it 's about time products learn the switch to ...      0  \n",
       "2291                   quickbooks ( r ) pro 2007 179.99      0  \n",
       "2292       microsoft ( r ) project standard 2007 349.95      0  \n",
       "\n",
       "[2293 rows x 4 columns]"
      ]
     },
     "execution_count": 27,
     "metadata": {},
     "output_type": "execute_result"
    }
   ],
   "source": [
    "amazon_test"
   ]
  },
  {
   "cell_type": "code",
   "execution_count": 28,
   "id": "fb9e6f3c",
   "metadata": {},
   "outputs": [],
   "source": [
    "question1_test=amazon_test['text_left']\n",
    "question2_test=amazon_test['text_right']\n",
    "mark_test=amazon_test['label']"
   ]
  },
  {
   "cell_type": "code",
   "execution_count": 29,
   "id": "d735023a",
   "metadata": {},
   "outputs": [],
   "source": [
    "test_overlap=[]\n",
    "test_jaccard=[]\n",
    "test_dice=[]\n",
    "for i in range(len(question1_test)):\n",
    "    test_overlap.append(overlap(question1_test[i],question2_test[i]))\n",
    "    test_jaccard.append(jaccard(question1_test[i],question2_test[i]))\n",
    "    test_dice.append(dice(question1_test[i],question2_test[i]))"
   ]
  },
  {
   "cell_type": "code",
   "execution_count": 30,
   "id": "5c98b832",
   "metadata": {},
   "outputs": [],
   "source": [
    "#calculate the overlap coefficient\n",
    "coefficient_test=[]\n",
    "for i in range(len(question1_test)):\n",
    "    coefficient_test.append(overlap(question1_test[i],question2_test[i])/3+jaccard(question1_test[i],question2_test[i])/3+dice(question1_test[i],question2_test[i])/3)"
   ]
  },
  {
   "cell_type": "code",
   "execution_count": 31,
   "id": "09f7029b",
   "metadata": {},
   "outputs": [],
   "source": [
    "    coefficient_test.append(overlap(question1_test[i],question2_test[i])/3+jaccard(question1_test[i],question2_test[i])/3+dice(question1_test[i],question2_test[i])/3)"
   ]
  },
  {
   "cell_type": "code",
   "execution_count": 32,
   "id": "be59f6e2",
   "metadata": {},
   "outputs": [],
   "source": [
    "def calculate_is_duplicate(coefficient):\n",
    "    mark=[]\n",
    "    for i in range(len(coefficient)):\n",
    "        if coefficient[i] >= 0.38:\n",
    "            mark.append(1)\n",
    "        else:\n",
    "            mark.append(0)\n",
    "    return mark"
   ]
  },
  {
   "cell_type": "code",
   "execution_count": 33,
   "id": "7591d210",
   "metadata": {},
   "outputs": [],
   "source": [
    "mark_calculate=calculate_is_duplicate(coefficient_test)"
   ]
  },
  {
   "cell_type": "code",
   "execution_count": 34,
   "id": "9fd82067",
   "metadata": {},
   "outputs": [],
   "source": [
    "def acc(mark_real,mark_test):\n",
    "    sum = 0\n",
    "    for i in range(len(mark_real)):\n",
    "        if mark_real[i]==mark_test[i]:\n",
    "            sum=sum+1\n",
    "        else:\n",
    "            continue\n",
    "    return sum/len(mark_test)"
   ]
  },
  {
   "cell_type": "code",
   "execution_count": 35,
   "id": "2187c9ca",
   "metadata": {},
   "outputs": [
    {
     "data": {
      "text/plain": [
       "0.6795989537925021"
      ]
     },
     "execution_count": 35,
     "metadata": {},
     "output_type": "execute_result"
    }
   ],
   "source": [
    "acc(mark_test,mark_calculate)"
   ]
  },
  {
   "cell_type": "code",
   "execution_count": 36,
   "id": "5446f4a8",
   "metadata": {},
   "outputs": [],
   "source": [
    "# use a classifier to predict the result\n",
    "X_train=[]\n",
    "X_test=[]\n",
    "for i in range(len(question1)):\n",
    "    co=(overlap_coefficient[i], jaccard_coefficient[i], dice_coefficient[i])\n",
    "    X_train.append(co)\n",
    "y_train=mark\n",
    "for i in range(len(question1_test)):\n",
    "    co=(test_overlap[i], test_jaccard[i], test_dice[i])\n",
    "    X_test.append(co)\n",
    "y_test=mark_test"
   ]
  },
  {
   "cell_type": "code",
   "execution_count": 37,
   "id": "0bb4ec09",
   "metadata": {},
   "outputs": [
    {
     "name": "stdout",
     "output_type": "stream",
     "text": [
      "Test set predictions:\n",
      "[1 0 0 ... 0 0 0]\n",
      "Test set score: 0.88\n",
      "Test set score: 0.88\n"
     ]
    }
   ],
   "source": [
    "#use KNeighbors Classifier\n",
    "from sklearn.neighbors import KNeighborsClassifier\n",
    "knn=KNeighborsClassifier(n_neighbors=1)\n",
    "model=knn.fit(X_train,y_train)\n",
    "y_pred=knn.predict(X_test)\n",
    "print(\"Test set predictions:\\n{}\".format(y_pred))\n",
    "print(\"Test set score: {:.2f}\".format(np.mean(y_pred == y_test)))\n",
    "print(\"Test set score: {:.2f}\".format(knn.score(X_test, y_test)))"
   ]
  }
 ],
 "metadata": {
  "kernelspec": {
   "display_name": "Python 3 (ipykernel)",
   "language": "python",
   "name": "python3"
  },
  "language_info": {
   "codemirror_mode": {
    "name": "ipython",
    "version": 3
   },
   "file_extension": ".py",
   "mimetype": "text/x-python",
   "name": "python",
   "nbconvert_exporter": "python",
   "pygments_lexer": "ipython3",
   "version": "3.9.12"
  }
 },
 "nbformat": 4,
 "nbformat_minor": 5
}
