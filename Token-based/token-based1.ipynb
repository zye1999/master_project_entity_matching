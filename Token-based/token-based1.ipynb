{
 "cells": [
  {
   "cell_type": "markdown",
   "id": "f4e9dc10",
   "metadata": {},
   "source": [
    "# 3-grams token "
   ]
  },
  {
   "cell_type": "code",
   "execution_count": 18,
   "id": "5a371066",
   "metadata": {},
   "outputs": [],
   "source": [
    "A='abcdegj';\n",
    "B='bcdggggj';"
   ]
  },
  {
   "cell_type": "code",
   "execution_count": 27,
   "id": "593205d6",
   "metadata": {},
   "outputs": [],
   "source": [
    "def grams(C,num):\n",
    "    begin=len(C)-num;\n",
    "    toke=[];\n",
    "    for i in range(begin+1):\n",
    "        a=[];\n",
    "        a=C[i:i+3]\n",
    "        toke.append(a);\n",
    "    return toke;"
   ]
  },
  {
   "cell_type": "code",
   "execution_count": 28,
   "id": "c911356b",
   "metadata": {},
   "outputs": [
    {
     "data": {
      "text/plain": [
       "['abc', 'bcd', 'cde', 'deg', 'egj']"
      ]
     },
     "execution_count": 28,
     "metadata": {},
     "output_type": "execute_result"
    }
   ],
   "source": [
    "grams(A,3)"
   ]
  },
  {
   "cell_type": "code",
   "execution_count": 29,
   "id": "f2ec5daf",
   "metadata": {},
   "outputs": [
    {
     "data": {
      "text/plain": [
       "['bcd', 'cdg', 'dgg', 'ggg', 'ggg', 'ggj']"
      ]
     },
     "execution_count": 29,
     "metadata": {},
     "output_type": "execute_result"
    }
   ],
   "source": [
    "grams(B,3)"
   ]
  },
  {
   "cell_type": "code",
   "execution_count": 30,
   "id": "0191f8d9",
   "metadata": {},
   "outputs": [
    {
     "name": "stdout",
     "output_type": "stream",
     "text": [
      "['junk', 'nested stuff']\n"
     ]
    }
   ],
   "source": [
    "import collections\n",
    "def flatten(x):\n",
    "    result = []\n",
    "    for el in x:\n",
    "        if isinstance(x, collections.Iterable) and not isinstance(el, str):\n",
    "            result.extend(flatten(el))\n",
    "        else:\n",
    "            result.append(el)\n",
    "    return result\n",
    "\n",
    "print(flatten([\"junk\",[\"nested stuff\"],[],[[]]]))  \n"
   ]
  },
  {
   "cell_type": "code",
   "execution_count": 31,
   "id": "b28d6c08",
   "metadata": {},
   "outputs": [
    {
     "name": "stdout",
     "output_type": "stream",
     "text": [
      "['abc', 'bcd', 'cde', 'deg', 'egj']\n"
     ]
    }
   ],
   "source": [
    "a1=flatten(grams(A,3))\n",
    "b1=flatten(grams(B,3))\n",
    "print(a1)"
   ]
  },
  {
   "cell_type": "code",
   "execution_count": 32,
   "id": "9ceb6464",
   "metadata": {},
   "outputs": [
    {
     "data": {
      "text/plain": [
       "['bcd']"
      ]
     },
     "execution_count": 32,
     "metadata": {},
     "output_type": "execute_result"
    }
   ],
   "source": [
    "common_elements = list(set(a1).intersection(set(b1)))\n",
    "common_elements\n",
    "lc=len(common_elements)"
   ]
  },
  {
   "cell_type": "code",
   "execution_count": 33,
   "id": "858f466c",
   "metadata": {},
   "outputs": [
    {
     "name": "stdout",
     "output_type": "stream",
     "text": [
      "5\n",
      "6\n"
     ]
    }
   ],
   "source": [
    "la=len(a1)\n",
    "lb=len(b1)\n",
    "print(la)\n",
    "print(lb)"
   ]
  },
  {
   "cell_type": "code",
   "execution_count": 35,
   "id": "82d8153f",
   "metadata": {},
   "outputs": [
    {
     "data": {
      "text/plain": [
       "['cdg', 'egj', 'ggg', 'abc', 'ggj', 'deg', 'dgg', 'cde', 'bcd']"
      ]
     },
     "execution_count": 35,
     "metadata": {},
     "output_type": "execute_result"
    }
   ],
   "source": [
    "union_elements=list(set(a1).union(set(b1)))\n",
    "union_elements\n",
    "lu=len(union_elements)"
   ]
  },
  {
   "cell_type": "code",
   "execution_count": 37,
   "id": "39d845bf",
   "metadata": {},
   "outputs": [
    {
     "data": {
      "text/plain": [
       "0.2"
      ]
     },
     "execution_count": 37,
     "metadata": {},
     "output_type": "execute_result"
    }
   ],
   "source": [
    "def overlap(C,D):\n",
    "    s1=grams(C,3);\n",
    "    s2=grams(D,3);\n",
    "    common_elements = list(set(s1).intersection(set(s2)));\n",
    "    lc=len(common_elements);\n",
    "    m=min(len(s1),len(s2));\n",
    "    sim1=lc/m;\n",
    "    return sim1;\n",
    "overlap(A,B)"
   ]
  },
  {
   "cell_type": "code",
   "execution_count": 38,
   "id": "70ef2c72",
   "metadata": {},
   "outputs": [
    {
     "data": {
      "text/plain": [
       "0.1111111111111111"
      ]
     },
     "execution_count": 38,
     "metadata": {},
     "output_type": "execute_result"
    }
   ],
   "source": [
    "def jaccard(C,D):\n",
    "    s1=grams(C,3);\n",
    "    s2=grams(D,3);\n",
    "    common_elements = list(set(s1).intersection(set(s2)));\n",
    "    lc=len(common_elements);\n",
    "    union_elements=list(set(a1).union(set(b1)));\n",
    "    lu=len(union_elements);\n",
    "    sim2 = lc/lu;\n",
    "    return sim2;\n",
    "jaccard(A,B)"
   ]
  },
  {
   "cell_type": "code",
   "execution_count": 39,
   "id": "bbb0e26e",
   "metadata": {},
   "outputs": [
    {
     "data": {
      "text/plain": [
       "0.18181818181818182"
      ]
     },
     "execution_count": 39,
     "metadata": {},
     "output_type": "execute_result"
    }
   ],
   "source": [
    "def dice(C,D):\n",
    "    s1=grams(C,3);\n",
    "    s2=grams(D,3);\n",
    "    common_elements = list(set(s1).intersection(set(s2)));\n",
    "    lc=len(common_elements);\n",
    "    sim3=2*lc/(len(s1)+len(s2));\n",
    "    return sim3;\n",
    "dice(A,B)"
   ]
  },
  {
   "cell_type": "code",
   "execution_count": null,
   "id": "e6666f94",
   "metadata": {},
   "outputs": [],
   "source": []
  }
 ],
 "metadata": {
  "kernelspec": {
   "display_name": "Python 3 (ipykernel)",
   "language": "python",
   "name": "python3"
  },
  "language_info": {
   "codemirror_mode": {
    "name": "ipython",
    "version": 3
   },
   "file_extension": ".py",
   "mimetype": "text/x-python",
   "name": "python",
   "nbconvert_exporter": "python",
   "pygments_lexer": "ipython3",
   "version": "3.9.7"
  }
 },
 "nbformat": 4,
 "nbformat_minor": 5
}
