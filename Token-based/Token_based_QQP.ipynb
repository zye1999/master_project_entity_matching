{
 "cells": [
  {
   "cell_type": "code",
   "execution_count": 95,
   "id": "72587789",
   "metadata": {},
   "outputs": [],
   "source": [
    "import pandas as pd\n",
    "import numpy as np\n",
    "import matplotlib.pyplot as plt\n",
    "import collections"
   ]
  },
  {
   "cell_type": "code",
   "execution_count": 96,
   "id": "b3b1b5a7",
   "metadata": {},
   "outputs": [],
   "source": [
    "def withStar(string):\n",
    "  if string=='':\n",
    "    return '';\n",
    "  else:\n",
    "    return '**'+string[:]+'**'"
   ]
  },
  {
   "cell_type": "code",
   "execution_count": 97,
   "id": "e66d7434",
   "metadata": {},
   "outputs": [],
   "source": [
    "def grams(string,num)->list[str]:\n",
    "    string=withStar(string)\n",
    "    begin=len(string)-num;\n",
    "    token=[];\n",
    "    for i in range(begin+1):\n",
    "        a=[];\n",
    "        a=string[i:i+3]\n",
    "        token.append(a);\n",
    "    return token;"
   ]
  },
  {
   "cell_type": "code",
   "execution_count": 98,
   "id": "66015d57",
   "metadata": {},
   "outputs": [],
   "source": [
    "def overlap(string1,string2)->int:\n",
    "    s1=grams(string1,3);\n",
    "    s2=grams(string2,3);\n",
    "    common_elements = list(set(s1).intersection(set(s2)));\n",
    "    lc=len(common_elements);\n",
    "    m=min(len(s1),len(s2));\n",
    "    if m==0: \n",
    "        return 0;\n",
    "    else:\n",
    "        sim1=lc/m;\n",
    "        return sim1;"
   ]
  },
  {
   "cell_type": "code",
   "execution_count": 99,
   "id": "a9c496d2",
   "metadata": {},
   "outputs": [],
   "source": [
    "def jaccard(string1,string2):\n",
    "    s1=grams(string1,3);\n",
    "    s2=grams(string2,3);\n",
    "    common_elements = list(set(s1).intersection(set(s2)));\n",
    "    lc=len(common_elements);\n",
    "    union_elements=list(set(s1).union(set(s2)));\n",
    "    lu=len(union_elements);\n",
    "    if lu==0:\n",
    "        return 0;\n",
    "    else:\n",
    "        sim2 = lc/lu;\n",
    "        return sim2;"
   ]
  },
  {
   "cell_type": "code",
   "execution_count": 100,
   "id": "581d849f",
   "metadata": {},
   "outputs": [],
   "source": [
    "def dice(string1,string2):\n",
    "    s1=grams(string1,3);\n",
    "    s2=grams(string2,3);\n",
    "    common_elements = list(set(s1).intersection(set(s2)));\n",
    "    lc=len(common_elements);\n",
    "    if len(s1)+len(s2)==0:\n",
    "        return 0;\n",
    "    else:\n",
    "        sim3=2*lc/(len(s1)+len(s2));\n",
    "        return sim3;"
   ]
  },
  {
   "cell_type": "code",
   "execution_count": 101,
   "id": "740ad457",
   "metadata": {},
   "outputs": [
    {
     "data": {
      "text/html": [
       "<div>\n",
       "<style scoped>\n",
       "    .dataframe tbody tr th:only-of-type {\n",
       "        vertical-align: middle;\n",
       "    }\n",
       "\n",
       "    .dataframe tbody tr th {\n",
       "        vertical-align: top;\n",
       "    }\n",
       "\n",
       "    .dataframe thead th {\n",
       "        text-align: right;\n",
       "    }\n",
       "</style>\n",
       "<table border=\"1\" class=\"dataframe\">\n",
       "  <thead>\n",
       "    <tr style=\"text-align: right;\">\n",
       "      <th></th>\n",
       "      <th>id</th>\n",
       "      <th>qid1</th>\n",
       "      <th>qid2</th>\n",
       "      <th>question1</th>\n",
       "      <th>question2</th>\n",
       "      <th>is_duplicate</th>\n",
       "    </tr>\n",
       "  </thead>\n",
       "  <tbody>\n",
       "    <tr>\n",
       "      <th>0</th>\n",
       "      <td>133273</td>\n",
       "      <td>213221</td>\n",
       "      <td>213222</td>\n",
       "      <td>How is the life of a math student? Could you d...</td>\n",
       "      <td>Which level of prepration is enough for the ex...</td>\n",
       "      <td>0</td>\n",
       "    </tr>\n",
       "    <tr>\n",
       "      <th>1</th>\n",
       "      <td>402555</td>\n",
       "      <td>536040</td>\n",
       "      <td>536041</td>\n",
       "      <td>How do I control my horny emotions?</td>\n",
       "      <td>How do you control your horniness?</td>\n",
       "      <td>1</td>\n",
       "    </tr>\n",
       "    <tr>\n",
       "      <th>2</th>\n",
       "      <td>360472</td>\n",
       "      <td>364011</td>\n",
       "      <td>490273</td>\n",
       "      <td>What causes stool color to change to yellow?</td>\n",
       "      <td>What can cause stool to come out as little balls?</td>\n",
       "      <td>0</td>\n",
       "    </tr>\n",
       "    <tr>\n",
       "      <th>3</th>\n",
       "      <td>150662</td>\n",
       "      <td>155721</td>\n",
       "      <td>7256</td>\n",
       "      <td>What can one do after MBBS?</td>\n",
       "      <td>What do i do after my MBBS ?</td>\n",
       "      <td>1</td>\n",
       "    </tr>\n",
       "    <tr>\n",
       "      <th>4</th>\n",
       "      <td>183004</td>\n",
       "      <td>279958</td>\n",
       "      <td>279959</td>\n",
       "      <td>Where can I find a power outlet for my laptop ...</td>\n",
       "      <td>Would a second airport in Sydney, Australia be...</td>\n",
       "      <td>0</td>\n",
       "    </tr>\n",
       "    <tr>\n",
       "      <th>5</th>\n",
       "      <td>119056</td>\n",
       "      <td>193387</td>\n",
       "      <td>193388</td>\n",
       "      <td>How not to feel guilty since I am Muslim and I...</td>\n",
       "      <td>I don't beleive I am bulimic, but I force thro...</td>\n",
       "      <td>0</td>\n",
       "    </tr>\n",
       "    <tr>\n",
       "      <th>6</th>\n",
       "      <td>356863</td>\n",
       "      <td>422862</td>\n",
       "      <td>96457</td>\n",
       "      <td>How is air traffic controlled?</td>\n",
       "      <td>How do you become an air traffic controller?</td>\n",
       "      <td>0</td>\n",
       "    </tr>\n",
       "    <tr>\n",
       "      <th>7</th>\n",
       "      <td>106969</td>\n",
       "      <td>147570</td>\n",
       "      <td>787</td>\n",
       "      <td>What is the best self help book you have read?...</td>\n",
       "      <td>What are the top self help books I should read?</td>\n",
       "      <td>1</td>\n",
       "    </tr>\n",
       "    <tr>\n",
       "      <th>8</th>\n",
       "      <td>196763</td>\n",
       "      <td>297539</td>\n",
       "      <td>297540</td>\n",
       "      <td>Can I enter University of Melbourne if I could...</td>\n",
       "      <td>University of the Philippines: If I take a sec...</td>\n",
       "      <td>0</td>\n",
       "    </tr>\n",
       "  </tbody>\n",
       "</table>\n",
       "</div>"
      ],
      "text/plain": [
       "       id    qid1    qid2                                          question1  \\\n",
       "0  133273  213221  213222  How is the life of a math student? Could you d...   \n",
       "1  402555  536040  536041                How do I control my horny emotions?   \n",
       "2  360472  364011  490273       What causes stool color to change to yellow?   \n",
       "3  150662  155721    7256                        What can one do after MBBS?   \n",
       "4  183004  279958  279959  Where can I find a power outlet for my laptop ...   \n",
       "5  119056  193387  193388  How not to feel guilty since I am Muslim and I...   \n",
       "6  356863  422862   96457                     How is air traffic controlled?   \n",
       "7  106969  147570     787  What is the best self help book you have read?...   \n",
       "8  196763  297539  297540  Can I enter University of Melbourne if I could...   \n",
       "\n",
       "                                           question2  is_duplicate  \n",
       "0  Which level of prepration is enough for the ex...             0  \n",
       "1                 How do you control your horniness?             1  \n",
       "2  What can cause stool to come out as little balls?             0  \n",
       "3                       What do i do after my MBBS ?             1  \n",
       "4  Would a second airport in Sydney, Australia be...             0  \n",
       "5  I don't beleive I am bulimic, but I force thro...             0  \n",
       "6       How do you become an air traffic controller?             0  \n",
       "7    What are the top self help books I should read?             1  \n",
       "8  University of the Philippines: If I take a sec...             0  "
      ]
     },
     "execution_count": 101,
     "metadata": {},
     "output_type": "execute_result"
    }
   ],
   "source": [
    "QQP_train = pd.read_csv(\"QQP_train.tsv\", sep=\"\\t\")\n",
    "QQP_train"
   ]
  },
  {
   "cell_type": "code",
   "execution_count": 102,
   "id": "7ef283c9",
   "metadata": {},
   "outputs": [],
   "source": [
    "question1=QQP_train['question1']\n",
    "question2=QQP_train['question2']\n",
    "mark=QQP_train['is_duplicate']"
   ]
  },
  {
   "cell_type": "code",
   "execution_count": 103,
   "id": "7732f844",
   "metadata": {},
   "outputs": [],
   "source": [
    "# #data processing\n",
    "# question1_token=[]\n",
    "# question2_token=[]\n",
    "# for i in range(len(question1)):\n",
    "#     question1_token.append(grams(question1[i],3))\n",
    "# for i in range(len(question2)):\n",
    "#     question2_token.append(grams(question2[i],3))"
   ]
  },
  {
   "cell_type": "code",
   "execution_count": 104,
   "id": "fedc0744",
   "metadata": {},
   "outputs": [],
   "source": [
    "#calculate the overlap coefficient\n",
    "overlap_coefficient=[]\n",
    "for i in range(len(question1)):\n",
    "    overlap_coefficient.append(overlap(question1[i],question2[i]))"
   ]
  },
  {
   "cell_type": "code",
   "execution_count": 105,
   "id": "5c020741",
   "metadata": {},
   "outputs": [],
   "source": [
    "#get the equal coefficient\n",
    "equal_overlap=[]\n",
    "for i in range(len(overlap_coefficient)):\n",
    "    if mark[i]==1:\n",
    "        equal_overlap.append(overlap_coefficient[i])\n",
    "#         print(\"The two sentence is equal, overlap coefficient is:\",overlap_coefficient[i])\n",
    "#         print(question1[i])\n",
    "#         print(question2[i])\n",
    "#         print('-'*50)"
   ]
  },
  {
   "cell_type": "code",
   "execution_count": 106,
   "id": "6ddb6026",
   "metadata": {},
   "outputs": [],
   "source": [
    "#get the equal coefficient\n",
    "inequal_overlap=[]\n",
    "for i in range(len(overlap_coefficient)):\n",
    "    if mark[i]==0:\n",
    "        inequal_overlap.append(overlap_coefficient[i])\n",
    "#         print(\"The two sentence is not equal, overlap coefficient is:\",overlap_coefficient[i])\n",
    "#         print(question1[i])\n",
    "#         print(question2[i])\n",
    "#         print('-'*50)"
   ]
  },
  {
   "cell_type": "code",
   "execution_count": 107,
   "id": "da15b9f9",
   "metadata": {},
   "outputs": [
    {
     "data": {
      "text/plain": [
       "[0.5277777777777778, 0.5862068965517241, 0.5306122448979592]"
      ]
     },
     "execution_count": 107,
     "metadata": {},
     "output_type": "execute_result"
    }
   ],
   "source": [
    "equal_overlap"
   ]
  },
  {
   "cell_type": "code",
   "execution_count": 108,
   "id": "b99a55ba",
   "metadata": {},
   "outputs": [
    {
     "data": {
      "text/plain": [
       "[0.15789473684210525,\n",
       " 0.43478260869565216,\n",
       " 0.2608695652173913,\n",
       " 0.32954545454545453,\n",
       " 0.78125,\n",
       " 0.2882882882882883]"
      ]
     },
     "execution_count": 108,
     "metadata": {},
     "output_type": "execute_result"
    }
   ],
   "source": [
    "inequal_overlap"
   ]
  },
  {
   "cell_type": "code",
   "execution_count": 109,
   "id": "67174066",
   "metadata": {},
   "outputs": [
    {
     "data": {
      "image/png": "[encoded data removed]",
      "text/plain": [
       "<Figure size 432x288 with 1 Axes>"
      ]
     },
     "metadata": {
      "needs_background": "light"
     },
     "output_type": "display_data"
    }
   ],
   "source": [
    "for i in range(len(overlap_coefficient)):\n",
    "    if overlap_coefficient[i] in equal_overlap:\n",
    "        plt.scatter(i,overlap_coefficient[i],color='r')\n",
    "    else:\n",
    "        plt.scatter(i,overlap_coefficient[i],color='b')\n",
    "##thershold 0.5"
   ]
  },
  {
   "cell_type": "code",
   "execution_count": 110,
   "id": "f971ddba",
   "metadata": {},
   "outputs": [],
   "source": [
    "# x=np.linspace(0,1,len(inequal_overlap))\n",
    "# plt.plot(x,inequal_overlap)"
   ]
  },
  {
   "cell_type": "code",
   "execution_count": 111,
   "id": "259a4f94",
   "metadata": {},
   "outputs": [],
   "source": [
    "#calculate the jaccard coefficient\n",
    "jaccard_coefficient=[]\n",
    "for i in range(len(question1)):\n",
    "    jaccard_coefficient.append(jaccard(question1[i],question2[i]))"
   ]
  },
  {
   "cell_type": "code",
   "execution_count": 112,
   "id": "06b73f27",
   "metadata": {},
   "outputs": [],
   "source": [
    "#get the equal coefficient\n",
    "equal_jaccard=[]\n",
    "for i in range(len(jaccard_coefficient)):\n",
    "    if mark[i]==1:\n",
    "        equal_jaccard.append(jaccard_coefficient[i])\n",
    "#         print(\"The two sentence is equal, overlap coefficient is:\",jaccard_coefficient[i])\n",
    "#         print(question1[i])\n",
    "#         print(question2[i])\n",
    "#         print('-'*50)"
   ]
  },
  {
   "cell_type": "code",
   "execution_count": 113,
   "id": "c0191a0a",
   "metadata": {},
   "outputs": [],
   "source": [
    "#get the inequal coefficient\n",
    "inequal_jaccard=[]\n",
    "for i in range(len(jaccard_coefficient)):\n",
    "    if mark[i]==0:\n",
    "        inequal_jaccard.append(jaccard_coefficient[i])\n",
    "#         print(\"The two sentence is not equal, overlap coefficient is:\",jaccard_coefficient[i])\n",
    "#         print(question1[i])\n",
    "#         print(question2[i])\n",
    "#         print('-'*50)"
   ]
  },
  {
   "cell_type": "code",
   "execution_count": 114,
   "id": "2eae5e44",
   "metadata": {},
   "outputs": [
    {
     "data": {
      "image/png": "[encoded data removed]",
      "text/plain": [
       "<Figure size 432x288 with 1 Axes>"
      ]
     },
     "metadata": {
      "needs_background": "light"
     },
     "output_type": "display_data"
    }
   ],
   "source": [
    "for i in range(len(jaccard_coefficient)):\n",
    "    if jaccard_coefficient[i] in inequal_jaccard:\n",
    "        plt.scatter(i,jaccard_coefficient[i],color='r')\n",
    "    else:\n",
    "        plt.scatter(i,jaccard_coefficient[i],color='b')\n",
    "# worse than overlap coeffient"
   ]
  },
  {
   "cell_type": "code",
   "execution_count": 115,
   "id": "3b7084ce",
   "metadata": {},
   "outputs": [],
   "source": [
    "#calculate the dice's coefficient\n",
    "dice_coefficient=[]\n",
    "for i in range(len(question1)):\n",
    "    dice_coefficient.append(dice(question1[i],question2[i]))"
   ]
  },
  {
   "cell_type": "code",
   "execution_count": 116,
   "id": "110f9310",
   "metadata": {},
   "outputs": [],
   "source": [
    "#get the equal coefficient\n",
    "equal_dice=[]\n",
    "for i in range(len(dice_coefficient)):\n",
    "    if mark[i]==1:\n",
    "        equal_dice.append(dice_coefficient[i])\n",
    "#         print(\"The two sentence is equal, overlap coefficient is:\",dice_coefficient[i])\n",
    "#         print(question1[i])\n",
    "#         print(question2[i])\n",
    "#         print('-'*50)"
   ]
  },
  {
   "cell_type": "code",
   "execution_count": 117,
   "id": "ea658d40",
   "metadata": {},
   "outputs": [],
   "source": [
    "#get the inequal coefficient\n",
    "inequal_dice=[]\n",
    "for i in range(len(dice_coefficient)):\n",
    "    if mark[i]==0:\n",
    "        inequal_dice.append(dice_coefficient[i])\n",
    "#         print(\"The two sentence is not equal, overlap coefficient is:\",dice_coefficient[i])\n",
    "#         print(question1[i])\n",
    "#         print(question2[i])\n",
    "#         print('-'*50)"
   ]
  },
  {
   "cell_type": "code",
   "execution_count": 118,
   "id": "0c123b28",
   "metadata": {},
   "outputs": [
    {
     "data": {
      "image/png": "[encoded data removed]",
      "text/plain": [
       "<Figure size 432x288 with 1 Axes>"
      ]
     },
     "metadata": {
      "needs_background": "light"
     },
     "output_type": "display_data"
    }
   ],
   "source": [
    "for i in range(len(dice_coefficient)):\n",
    "    if dice_coefficient[i] in inequal_dice:\n",
    "        plt.scatter(i,dice_coefficient[i],color='r')\n",
    "    else:\n",
    "        plt.scatter(i,dice_coefficient[i],color='b')"
   ]
  },
  {
   "cell_type": "code",
   "execution_count": 119,
   "id": "d25b38ea",
   "metadata": {},
   "outputs": [],
   "source": [
    "# use equal weight in each coefficient\n",
    "coefficient=[]\n",
    "for i in range(len(mark)):\n",
    "    coefficient.append(overlap_coefficient[i]/3+jaccard_coefficient[i]/3+dice_coefficient[i]/3)"
   ]
  },
  {
   "cell_type": "code",
   "execution_count": 120,
   "id": "ba0e71c4",
   "metadata": {},
   "outputs": [
    {
     "data": {
      "image/png": "[encoded data removed]",
      "text/plain": [
       "<Figure size 432x288 with 1 Axes>"
      ]
     },
     "metadata": {
      "needs_background": "light"
     },
     "output_type": "display_data"
    }
   ],
   "source": [
    "for i in range(len(coefficient)):\n",
    "    if mark[i]==1:\n",
    "        plt.scatter(i,coefficient[i],color='r')\n",
    "    else:\n",
    "        plt.scatter(i,coefficient[i],color='b')\n",
    "# same as overlap coefficient"
   ]
  },
  {
   "cell_type": "code",
   "execution_count": 121,
   "id": "336b1c53",
   "metadata": {},
   "outputs": [
    {
     "data": {
      "text/plain": [
       "[0.1217979422527925,\n",
       " 0.47123677945595754,\n",
       " 0.3724746709955137,\n",
       " 0.5291593609974674,\n",
       " 0.18649355877616747,\n",
       " 0.2409963805533426,\n",
       " 0.6313245847443961,\n",
       " 0.39415359018925633,\n",
       " 0.23415012179764344]"
      ]
     },
     "execution_count": 121,
     "metadata": {},
     "output_type": "execute_result"
    }
   ],
   "source": [
    "coefficient\n",
    "#thershold 0.38"
   ]
  },
  {
   "cell_type": "code",
   "execution_count": 122,
   "id": "7dbf9c9e",
   "metadata": {},
   "outputs": [],
   "source": [
    "QQP_test = pd.read_csv(\"QQP_dev.tsv\", sep=\"\\t\")"
   ]
  },
  {
   "cell_type": "code",
   "execution_count": 123,
   "id": "8a14d1ef",
   "metadata": {
    "scrolled": true
   },
   "outputs": [
    {
     "data": {
      "text/html": [
       "<div>\n",
       "<style scoped>\n",
       "    .dataframe tbody tr th:only-of-type {\n",
       "        vertical-align: middle;\n",
       "    }\n",
       "\n",
       "    .dataframe tbody tr th {\n",
       "        vertical-align: top;\n",
       "    }\n",
       "\n",
       "    .dataframe thead th {\n",
       "        text-align: right;\n",
       "    }\n",
       "</style>\n",
       "<table border=\"1\" class=\"dataframe\">\n",
       "  <thead>\n",
       "    <tr style=\"text-align: right;\">\n",
       "      <th></th>\n",
       "      <th>id</th>\n",
       "      <th>qid1</th>\n",
       "      <th>qid2</th>\n",
       "      <th>question1</th>\n",
       "      <th>question2</th>\n",
       "      <th>is_duplicate</th>\n",
       "    </tr>\n",
       "  </thead>\n",
       "  <tbody>\n",
       "    <tr>\n",
       "      <th>0</th>\n",
       "      <td>201359</td>\n",
       "      <td>303345</td>\n",
       "      <td>303346</td>\n",
       "      <td>Why are African-Americans so beautiful?</td>\n",
       "      <td>Why are hispanics so beautiful?</td>\n",
       "      <td>0</td>\n",
       "    </tr>\n",
       "    <tr>\n",
       "      <th>1</th>\n",
       "      <td>263843</td>\n",
       "      <td>69383</td>\n",
       "      <td>380476</td>\n",
       "      <td>I want to pursue PhD in Computer Science about...</td>\n",
       "      <td>I handle social media for a non-profit. Should...</td>\n",
       "      <td>0</td>\n",
       "    </tr>\n",
       "    <tr>\n",
       "      <th>2</th>\n",
       "      <td>172974</td>\n",
       "      <td>266948</td>\n",
       "      <td>175089</td>\n",
       "      <td>Is there a reason why we should travel alone?</td>\n",
       "      <td>What are some reasons to travel alone?</td>\n",
       "      <td>1</td>\n",
       "    </tr>\n",
       "    <tr>\n",
       "      <th>3</th>\n",
       "      <td>15329</td>\n",
       "      <td>29298</td>\n",
       "      <td>29299</td>\n",
       "      <td>Why are people so obsessed with having a girlf...</td>\n",
       "      <td>How can a single male have a child?</td>\n",
       "      <td>0</td>\n",
       "    </tr>\n",
       "    <tr>\n",
       "      <th>4</th>\n",
       "      <td>209794</td>\n",
       "      <td>314169</td>\n",
       "      <td>314170</td>\n",
       "      <td>What are some good baby girl names starting wi...</td>\n",
       "      <td>What are some good baby girl names starting wi...</td>\n",
       "      <td>0</td>\n",
       "    </tr>\n",
       "    <tr>\n",
       "      <th>5</th>\n",
       "      <td>323679</td>\n",
       "      <td>449673</td>\n",
       "      <td>311332</td>\n",
       "      <td>I am 25 year old guy and never had a girlfrien...</td>\n",
       "      <td>I am 25 years old. I have never had a girlfrie...</td>\n",
       "      <td>1</td>\n",
       "    </tr>\n",
       "    <tr>\n",
       "      <th>6</th>\n",
       "      <td>144933</td>\n",
       "      <td>10927</td>\n",
       "      <td>229257</td>\n",
       "      <td>What does a good answer on Quora look like? Wh...</td>\n",
       "      <td>How do you write a good answer on Quora?</td>\n",
       "      <td>1</td>\n",
       "    </tr>\n",
       "    <tr>\n",
       "      <th>7</th>\n",
       "      <td>198597</td>\n",
       "      <td>299859</td>\n",
       "      <td>299860</td>\n",
       "      <td>What are the best things to do in Hong Kong?</td>\n",
       "      <td>What is the best thing in Hong Kong?</td>\n",
       "      <td>1</td>\n",
       "    </tr>\n",
       "    <tr>\n",
       "      <th>8</th>\n",
       "      <td>382732</td>\n",
       "      <td>443182</td>\n",
       "      <td>514615</td>\n",
       "      <td>Why is my life getting so complicated?</td>\n",
       "      <td>Why is my life so complicated?</td>\n",
       "      <td>0</td>\n",
       "    </tr>\n",
       "  </tbody>\n",
       "</table>\n",
       "</div>"
      ],
      "text/plain": [
       "       id    qid1    qid2                                          question1  \\\n",
       "0  201359  303345  303346            Why are African-Americans so beautiful?   \n",
       "1  263843   69383  380476  I want to pursue PhD in Computer Science about...   \n",
       "2  172974  266948  175089      Is there a reason why we should travel alone?   \n",
       "3   15329   29298   29299  Why are people so obsessed with having a girlf...   \n",
       "4  209794  314169  314170  What are some good baby girl names starting wi...   \n",
       "5  323679  449673  311332  I am 25 year old guy and never had a girlfrien...   \n",
       "6  144933   10927  229257  What does a good answer on Quora look like? Wh...   \n",
       "7  198597  299859  299860       What are the best things to do in Hong Kong?   \n",
       "8  382732  443182  514615             Why is my life getting so complicated?   \n",
       "\n",
       "                                           question2  is_duplicate  \n",
       "0                    Why are hispanics so beautiful?             0  \n",
       "1  I handle social media for a non-profit. Should...             0  \n",
       "2             What are some reasons to travel alone?             1  \n",
       "3                How can a single male have a child?             0  \n",
       "4  What are some good baby girl names starting wi...             0  \n",
       "5  I am 25 years old. I have never had a girlfrie...             1  \n",
       "6           How do you write a good answer on Quora?             1  \n",
       "7               What is the best thing in Hong Kong?             1  \n",
       "8                     Why is my life so complicated?             0  "
      ]
     },
     "execution_count": 123,
     "metadata": {},
     "output_type": "execute_result"
    }
   ],
   "source": [
    "QQP_test"
   ]
  },
  {
   "cell_type": "code",
   "execution_count": 124,
   "id": "fb9e6f3c",
   "metadata": {},
   "outputs": [],
   "source": [
    "question1_test=QQP_test['question1']\n",
    "question2_test=QQP_test['question2']\n",
    "mark_test=QQP_test['is_duplicate']"
   ]
  },
  {
   "cell_type": "code",
   "execution_count": 125,
   "id": "163a9308",
   "metadata": {},
   "outputs": [],
   "source": [
    "test_overlap=[]\n",
    "test_jaccard=[]\n",
    "test_dice=[]\n",
    "for i in range(len(question1_test)):\n",
    "    test_overlap.append(overlap(question1_test[i],question2_test[i]))\n",
    "    test_jaccard.append(jaccard(question1_test[i],question2_test[i]))\n",
    "    test_dice.append(dice(question1_test[i],question2_test[i]))"
   ]
  },
  {
   "cell_type": "code",
   "execution_count": 126,
   "id": "5c98b832",
   "metadata": {},
   "outputs": [],
   "source": [
    "#calculate the coefficient\n",
    "coefficient_test=[]\n",
    "for i in range(len(question1_test)):\n",
    "    coefficient_test.append(overlap(question1_test[i],question2_test[i])/3+jaccard(question1_test[i],question2_test[i])/3+dice(question1_test[i],question2_test[i])/3)"
   ]
  },
  {
   "cell_type": "code",
   "execution_count": 127,
   "id": "09f7029b",
   "metadata": {},
   "outputs": [],
   "source": [
    "#     coefficient_test.append(overlap(question1_test[i],question2_test[i])/3+jaccard(question1_test[i],question2_test[i])/3+dice(question1_test[i],question2_test[i])/3)"
   ]
  },
  {
   "cell_type": "code",
   "execution_count": 128,
   "id": "be59f6e2",
   "metadata": {},
   "outputs": [],
   "source": [
    "def calculate_is_duplicate(coefficient):\n",
    "    mark=[]\n",
    "    for i in range(len(coefficient)):\n",
    "        if coefficient[i] >= 0.38:\n",
    "            mark.append(1)\n",
    "        else:\n",
    "            mark.append(0)\n",
    "    return mark"
   ]
  },
  {
   "cell_type": "code",
   "execution_count": 129,
   "id": "7591d210",
   "metadata": {},
   "outputs": [
    {
     "data": {
      "text/plain": [
       "[1, 0, 1, 0, 1, 1, 1, 1, 1]"
      ]
     },
     "execution_count": 129,
     "metadata": {},
     "output_type": "execute_result"
    }
   ],
   "source": [
    "mark_calculate=calculate_is_duplicate(coefficient_test)\n",
    "mark_calculate"
   ]
  },
  {
   "cell_type": "code",
   "execution_count": 130,
   "id": "9fd82067",
   "metadata": {},
   "outputs": [],
   "source": [
    "def acc(mark_real,mark_test):\n",
    "    sum = 0\n",
    "    for i in range(len(mark_real)):\n",
    "        if mark_real[i]==mark_test[i]:\n",
    "            sum=sum+1\n",
    "        else:\n",
    "            continue\n",
    "    return sum/len(mark_test)"
   ]
  },
  {
   "cell_type": "code",
   "execution_count": 131,
   "id": "2187c9ca",
   "metadata": {},
   "outputs": [
    {
     "data": {
      "text/plain": [
       "0.6666666666666666"
      ]
     },
     "execution_count": 131,
     "metadata": {},
     "output_type": "execute_result"
    }
   ],
   "source": [
    "acc(mark_test,mark_calculate)"
   ]
  },
  {
   "cell_type": "code",
   "execution_count": 132,
   "id": "5446f4a8",
   "metadata": {},
   "outputs": [],
   "source": [
    "# use a classifier to predict the result\n",
    "X_train=[]\n",
    "X_test=[]\n",
    "for i in range(len(question1)):\n",
    "    co=(overlap_coefficient[i], jaccard_coefficient[i], dice_coefficient[i])\n",
    "    X_train.append(co)\n",
    "y_train=mark\n",
    "for i in range(len(question1_test)):\n",
    "    co=(test_overlap[i], test_jaccard[i], test_dice[i])\n",
    "    X_test.append(co)\n",
    "y_test=mark_test"
   ]
  },
  {
   "cell_type": "code",
   "execution_count": 134,
   "id": "0bb4ec09",
   "metadata": {},
   "outputs": [
    {
     "name": "stdout",
     "output_type": "stream",
     "text": [
      "Test set predictions:\n",
      "[0 0 1 0 0 1 1 0 0]\n",
      "Test set score: 0.89\n",
      "Test set score: 0.89\n"
     ]
    }
   ],
   "source": [
    "#use KNeighbors Classifier\n",
    "from sklearn.neighbors import KNeighborsClassifier\n",
    "knn=KNeighborsClassifier(n_neighbors=1)\n",
    "model=knn.fit(X_train,y_train)\n",
    "y_pred=knn.predict(X_test)\n",
    "print(\"Test set predictions:\\n{}\".format(y_pred))\n",
    "print(\"Test set score: {:.2f}\".format(np.mean(y_pred == y_test)))\n",
    "print(\"Test set score: {:.2f}\".format(knn.score(X_test, y_test)))"
   ]
  },
  {
   "cell_type": "code",
   "execution_count": null,
   "id": "572b00f6",
   "metadata": {},
   "outputs": [],
   "source": []
  }
 ],
 "metadata": {
  "kernelspec": {
   "display_name": "Python 3 (ipykernel)",
   "language": "python",
   "name": "python3"
  },
  "language_info": {
   "codemirror_mode": {
    "name": "ipython",
    "version": 3
   },
   "file_extension": ".py",
   "mimetype": "text/x-python",
   "name": "python",
   "nbconvert_exporter": "python",
   "pygments_lexer": "ipython3",
   "version": "3.9.12"
  }
 },
 "nbformat": 4,
 "nbformat_minor": 5
}
