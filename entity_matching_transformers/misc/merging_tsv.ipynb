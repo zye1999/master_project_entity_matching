{
 "cells": [
  {
   "cell_type": "code",
   "execution_count": 1,
   "metadata": {},
   "outputs": [],
   "source": [
    "import pandas as pd\n",
    "import os\n",
    "\n",
    "#dev.tsv\n",
    "# abt_buy = pd.read_csv(\"./data/abt_buy/dev.tsv\", sep=\"\\t\", usecols=['idx','text_left','text_right','label'])\n",
    "# amazon_google = pd.read_csv(\"./data/amazon_google/dev.tsv\", sep=\"\\t\", usecols=['idx','text_left','text_right','label'])\n",
    "# dirty_amazon_itunes = pd.read_csv(\"./data/dirty_amazon_itunes/dev.tsv\", sep=\"\\t\", usecols=['idx','text_left','text_right','label'])\n",
    "# dirty_dblp_acm = pd.read_csv(\"./data/dirty_dblp_acm/dev.tsv\", sep=\"\\t\", usecols=['idx','text_left','text_right','label'])\n",
    "# dirty_dblp_scholar = pd.read_csv(\"./data/dirty_dblp_scholar/dev.tsv\", sep=\"\\t\", usecols=['idx','text_left','text_right','label'])\n",
    "# dirty_walmart_amazon = pd.read_csv(\"./data/dirty_walmart_amazon/dev.tsv\", sep=\"\\t\", usecols=['idx','text_left','text_right','label'])\n",
    "# datasets = [abt_buy, dirty_amazon_itunes, dirty_dblp_acm, dirty_dblp_scholar, dirty_walmart_amazon]\n",
    "# datasets = [\"abt_buy\", \"dirty_amazon_itunes\", \"dirty_dblp_acm\", \"dirty_dblp_scholar\", \"dirty_walmart_amazon\"]\n"
   ]
  },
  {
   "cell_type": "markdown",
   "metadata": {},
   "source": [
    "merge function"
   ]
  },
  {
   "cell_type": "code",
   "execution_count": 2,
   "metadata": {},
   "outputs": [],
   "source": [
    "# merge tsv files function\n",
    "# tsv_name: train.tsv, test.tsv, dev.tsv\n",
    "# datasets: a list of datasets\n",
    "# path: path to save the merged tsv\n",
    "def merge(tsv_name, datasets, save_path):\n",
    "  result = pd.DataFrame()\n",
    "  for i in datasets:\n",
    "    data_path = \"../data/\" + i + \"/\" + tsv_name\n",
    "    tsv = pd.read_csv(data_path, sep=\"\\t\", usecols=['idx','text_left','text_right','label'])\n",
    "    result = pd.concat([result, tsv], axis=0)\n",
    "\n",
    "  # reassignment of index\n",
    "  result.index = range(len(result['idx']))\n",
    "  result['idx'] = range(len(result['idx']))\n",
    "\n",
    "  # save to tsv file\n",
    "  if not os.path.exists(save_path):\n",
    "    os.mkdir(save_path)\n",
    "  result.to_csv(save_path + tsv_name, sep=\"\\t\", header=True, index=False)"
   ]
  },
  {
   "cell_type": "markdown",
   "metadata": {},
   "source": [
    "merge clean datasets"
   ]
  },
  {
   "cell_type": "code",
   "execution_count": 13,
   "metadata": {},
   "outputs": [],
   "source": [
    "datasets = [\"abt_buy\", \"amazon_google\"]\n",
    "path = \"../data/merged_clean/\"\n",
    "merge(\"dev.tsv\", datasets, path)\n",
    "merge(\"train.tsv\", datasets, path)\n",
    "merge(\"test.tsv\", datasets, path)"
   ]
  },
  {
   "cell_type": "markdown",
   "metadata": {},
   "source": [
    "merge dirty datasets"
   ]
  },
  {
   "cell_type": "code",
   "execution_count": null,
   "metadata": {},
   "outputs": [],
   "source": [
    "datasets = [\"dirty_amazon_itunes\", \"dirty_dblp_acm\", \"dirty_dblp_scholar\", \"dirty_walmart_amazon\"]\n",
    "path = \"../data/merged_dirty/\"\n",
    "merge(\"dev.tsv\", datasets, path)\n",
    "merge(\"train.tsv\", datasets, path)\n",
    "merge(\"test.tsv\", datasets, path)"
   ]
  },
  {
   "cell_type": "markdown",
   "metadata": {},
   "source": [
    "merge all datasets"
   ]
  },
  {
   "cell_type": "code",
   "execution_count": 3,
   "metadata": {},
   "outputs": [],
   "source": [
    "datasets = [\"abt_buy\", \"amazon_google\", \"dirty_amazon_itunes\", \"dirty_dblp_acm\", \"dirty_dblp_scholar\", \"dirty_walmart_amazon\"]\n",
    "path = \"../data/merged_all/\"\n",
    "merge(\"dev.tsv\", datasets, path)\n",
    "merge(\"train.tsv\", datasets, path)\n",
    "merge(\"test.tsv\", datasets, path)"
   ]
  }
 ],
 "metadata": {
  "kernelspec": {
   "display_name": "Python 3.10.0 64-bit",
   "language": "python",
   "name": "python3"
  },
  "language_info": {
   "codemirror_mode": {
    "name": "ipython",
    "version": 3
   },
   "file_extension": ".py",
   "mimetype": "text/x-python",
   "name": "python",
   "nbconvert_exporter": "python",
   "pygments_lexer": "ipython3",
   "version": "3.10.0"
  },
  "orig_nbformat": 4,
  "vscode": {
   "interpreter": {
    "hash": "e5e5d42993828a7ce140ba38a6cf52dc4a7515f3931a917cd5c6d533d79a60c5"
   }
  }
 },
 "nbformat": 4,
 "nbformat_minor": 2
}
